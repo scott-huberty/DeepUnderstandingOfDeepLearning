{
  "nbformat": 4,
  "nbformat_minor": 0,
  "metadata": {
    "colab": {
      "name": "DUDL_overfitting_regression.ipynb",
      "provenance": []
    },
    "kernelspec": {
      "name": "python3",
      "display_name": "Python 3"
    }
  },
  "cells": [
    {
      "cell_type": "markdown",
      "metadata": {
        "id": "bhWV8oes-wKR"
      },
      "source": [
        "# COURSE: A deep understanding of deep learning\n",
        "## SECTION: Overfitting, cross-validation, regularization\n",
        "### LECTURE: Cross-validation on regression\n",
        "#### TEACHER: Mike X Cohen, sincxpress.com\n",
        "##### COURSE URL: udemy.com/course/deeplearning_x/?couponCode=202401"
      ]
    },
    {
      "cell_type": "code",
      "metadata": {
        "id": "j7-LiwqUMGYL"
      },
      "source": [
        "# import libraries\n",
        "import torch\n",
        "import torch.nn as nn\n",
        "import numpy as np\n",
        "import matplotlib.pyplot as plt"
      ],
      "execution_count": 51,
      "outputs": []
    },
    {
      "cell_type": "markdown",
      "metadata": {
        "id": "Wz6w7TtgQ6QF"
      },
      "source": [
        "# Create the data and the model"
      ]
    },
    {
      "cell_type": "code",
      "metadata": {
        "id": "j-SP8NPsMNRL",
        "outputId": "e15bc97c-09f7-4212-9a5d-16f0faf4c0ab",
        "colab": {
          "base_uri": "https://localhost:8080/",
          "height": 430
        }
      },
      "source": [
        "N = 100\n",
        "x = torch.randn(N,1)\n",
        "y = x + torch.randn(N,1)\n",
        "\n",
        "# and plot\n",
        "plt.plot(x,y,'s')\n",
        "plt.show()"
      ],
      "execution_count": 52,
      "outputs": [
        {
          "output_type": "display_data",
          "data": {
            "text/plain": [
              "<Figure size 640x480 with 1 Axes>"
            ],
            "image/png": "[encoded data removed]"
          },
          "metadata": {}
        }
      ]
    },
    {
      "cell_type": "code",
      "metadata": {
        "id": "krQeh5wYMNla"
      },
      "source": [
        "# build model\n",
        "ANNreg = nn.Sequential(\n",
        "    nn.Linear(1,1),  # input layer\n",
        "    nn.ReLU(),       # activation function\n",
        "    nn.Linear(1,1)   # output layer\n",
        "    )"
      ],
      "execution_count": 53,
      "outputs": []
    },
    {
      "cell_type": "code",
      "metadata": {
        "id": "dmHh7GrvMNoy"
      },
      "source": [
        "# model meta-parameters\n",
        "\n",
        "learningRate = .05\n",
        "\n",
        "# loss function\n",
        "lossfun = nn.MSELoss()\n",
        "\n",
        "# optimizer\n",
        "optimizer = torch.optim.SGD(ANNreg.parameters(),lr=learningRate)"
      ],
      "execution_count": 54,
      "outputs": []
    },
    {
      "cell_type": "markdown",
      "metadata": {
        "id": "vpZsJzRKQ-xM"
      },
      "source": [
        "# Select data for training"
      ]
    },
    {
      "cell_type": "code",
      "metadata": {
        "id": "of9E8ClxMNsD",
        "outputId": "ccea735d-b0ff-44da-ae3b-7a1335ed0afa",
        "colab": {
          "base_uri": "https://localhost:8080/"
        }
      },
      "source": [
        "# select training data (note the hard-coded N!)\n",
        "trainidx  = np.random.choice(range(N),80,replace=False) # random indices\n",
        "trainBool = np.zeros(N,dtype=bool) # initialize vector of Falses'\n",
        "trainBool[trainidx] = True # set selected samples to True\n",
        "\n",
        "# show the sizes\n",
        "print(x[trainBool].shape)\n",
        "print(x[~trainBool].shape)"
      ],
      "execution_count": 55,
      "outputs": [
        {
          "output_type": "stream",
          "name": "stdout",
          "text": [
            "torch.Size([80, 1])\n",
            "torch.Size([20, 1])\n"
          ]
        }
      ]
    },
    {
      "cell_type": "code",
      "source": [
        "from sklearn.model_selection import train_test_split\n",
        "\n",
        "# Split the data into training and test sets\n",
        "X_train, X_test, y_train, y_test = train_test_split(x, y, test_size=0.2)\n",
        "\n",
        "# Print the shapes of the training and test sets\n",
        "print(X_train.shape)\n",
        "print(X_test.shape)\n"
      ],
      "metadata": {
        "id": "UwHHTyVb0wIx",
        "outputId": "9fc45fb9-3f69-436d-bd08-26163b763728",
        "colab": {
          "base_uri": "https://localhost:8080/"
        }
      },
      "execution_count": 56,
      "outputs": [
        {
          "output_type": "stream",
          "name": "stdout",
          "text": [
            "torch.Size([80, 1])\n",
            "torch.Size([20, 1])\n"
          ]
        }
      ]
    },
    {
      "cell_type": "markdown",
      "metadata": {
        "id": "lmUXAALTRPkL"
      },
      "source": [
        "# Train the model"
      ]
    },
    {
      "cell_type": "code",
      "metadata": {
        "id": "EY4ayy2VRGeZ"
      },
      "source": [
        "numepochs = 500\n",
        "losses = []\n",
        "for epochi in range(numepochs):\n",
        "\n",
        "  # forward pass\n",
        "  yHat = ANNreg(X_train)\n",
        "\n",
        "  # compute loss\n",
        "  loss = lossfun(yHat, y_train)\n",
        "  losses.append(loss.detach())\n",
        "\n",
        "  # backprop\n",
        "  optimizer.zero_grad()\n",
        "  loss.backward()\n",
        "  optimizer.step()"
      ],
      "execution_count": 57,
      "outputs": []
    },
    {
      "cell_type": "code",
      "source": [
        "losses = np.array(losses)\n",
        "\n",
        "plt.plot(losses)"
      ],
      "metadata": {
        "id": "8RRGFJV_1K9f",
        "outputId": "fdcacb7c-5395-42e9-d080-6a5a635c3e75",
        "colab": {
          "base_uri": "https://localhost:8080/",
          "height": 447
        }
      },
      "execution_count": 58,
      "outputs": [
        {
          "output_type": "execute_result",
          "data": {
            "text/plain": [
              "[<matplotlib.lines.Line2D at 0x7ad7ffa7c730>]"
            ]
          },
          "metadata": {},
          "execution_count": 58
        },
        {
          "output_type": "display_data",
          "data": {
            "text/plain": [
              "<Figure size 640x480 with 1 Axes>"
            ],
            "image/png": "[encoded data removed]"
          },
          "metadata": {}
        }
      ]
    },
    {
      "cell_type": "code",
      "metadata": {
        "id": "zmX6K49WMNuy",
        "outputId": "d6c0f144-41bc-42e9-b070-6091a7ace996",
        "colab": {
          "base_uri": "https://localhost:8080/"
        }
      },
      "source": [
        "# report the losses\n",
        "\n",
        "# compute losses of the TEST set\n",
        "predYtest = ANNreg(y_test)\n",
        "testloss = (predYtest-y_test).pow(2).mean()\n",
        "\n",
        "# print out final TRAIN loss and TEST loss\n",
        "print(f'Final TRAIN loss: {loss.detach():.2f}')\n",
        "print(f'Final TEST loss: {testloss.detach():.2f}')"
      ],
      "execution_count": 59,
      "outputs": [
        {
          "output_type": "stream",
          "name": "stdout",
          "text": [
            "Final TRAIN loss: 1.45\n",
            "Final TEST loss: 0.00\n"
          ]
        }
      ]
    },
    {
      "cell_type": "code",
      "metadata": {
        "id": "i1TCt0mpMNxC",
        "outputId": "b9dd5832-32a6-47fc-ebd5-41bfab12aa55",
        "colab": {
          "base_uri": "https://localhost:8080/",
          "height": 430
        }
      },
      "source": [
        "### plot the data\n",
        "\n",
        "# predictions for final training run\n",
        "predYtrain = ANNreg(X_train).detach().numpy()\n",
        "\n",
        "# now plot\n",
        "plt.plot(x,y,'k^',label='All data')\n",
        "plt.plot(X_train, predYtrain,\n",
        "         'bs',markerfacecolor='w',label='Training pred.')\n",
        "plt.plot(y_test, predYtest.detach(),\n",
        "         'ro',markerfacecolor='w',label='Test pred.')\n",
        "plt.legend()\n",
        "plt.show()"
      ],
      "execution_count": 60,
      "outputs": [
        {
          "output_type": "display_data",
          "data": {
            "text/plain": [
              "<Figure size 640x480 with 1 Axes>"
            ],
            "image/png": "[encoded data removed]"
          },
          "metadata": {}
        }
      ]
    },
    {
      "cell_type": "code",
      "metadata": {
        "id": "ucAVWWYEbBE5"
      },
      "source": [],
      "execution_count": 60,
      "outputs": []
    },
    {
      "cell_type": "markdown",
      "metadata": {
        "id": "jjvdKsrdZ4ka"
      },
      "source": [
        "# Additional explorations"
      ]
    },
    {
      "cell_type": "code",
      "metadata": {
        "id": "5EPeV1KZZ42b"
      },
      "source": [
        "# 1) The train/test split is currently hard-coded to be 80/20 (note the number \"80\"). This is bad coding style, because\n",
        "#    if you change the number of datapoints from N=100 to N=10000, then we're still only training on 80 samples and testing\n",
        "#    on 10000-80=9920 samples. Change how the variable trainBool is created so that it always trains on 80% of the data,\n",
        "#    regardless of the dataset size.\n",
        "#\n",
        "# 2) Re-write this code to use scikitlearn and/or DataLoader instead of manually separating the data into train/test.\n",
        "#\n",
        "# 3) Do we really need 500 epochs to train the model? To find out, add code to the training loop to compute the MSEloss\n",
        "#    for the train and test data on each iteration during training. Then plot the train and test error as a function of\n",
        "#    training epoch. What is your evaluation of an appropriate amount of training for this model/dataset?\n",
        "#"
      ],
      "execution_count": 61,
      "outputs": []
    }
  ]
}