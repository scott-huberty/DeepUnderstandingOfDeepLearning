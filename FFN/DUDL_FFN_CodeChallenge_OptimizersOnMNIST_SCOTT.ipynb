{
  "nbformat": 4,
  "nbformat_minor": 0,
  "metadata": {
    "colab": {
      "provenance": [],
      "include_colab_link": true
    },
    "kernelspec": {
      "name": "python3",
      "display_name": "Python 3"
    }
  },
  "cells": [
    {
      "cell_type": "markdown",
      "metadata": {
        "id": "view-in-github",
        "colab_type": "text"
      },
      "source": [
        "<a href=\"https://colab.research.google.com/github/scott-huberty/DeepUnderstandingOfDeepLearning/blob/codechallenges/FFN/DUDL_FFN_CodeChallenge_OptimizersOnMNIST_SCOTT.ipynb\" target=\"_parent\"><img src=\"https://colab.research.google.com/assets/colab-badge.svg\" alt=\"Open In Colab\"/></a>"
      ]
    },
    {
      "cell_type": "markdown",
      "metadata": {
        "id": "bhWV8oes-wKR"
      },
      "source": [
        "# COURSE: A deep understanding of deep learning\n",
        "## SECTION: FFNs\n",
        "### LECTURE: FFN to classify digits\n",
        "#### TEACHER: Mike X Cohen, sincxpress.com\n",
        "##### COURSE URL: udemy.com/course/deeplearning_x/?couponCode=202401"
      ]
    },
    {
      "cell_type": "code",
      "metadata": {
        "id": "YeuAheYyhdZw"
      },
      "source": [
        "# import libraries\n",
        "import numpy as np\n",
        "\n",
        "import torch\n",
        "import torch.nn as nn\n",
        "import torch.nn.functional as F\n",
        "from torch.utils.data import DataLoader,TensorDataset\n",
        "from sklearn.model_selection import train_test_split\n",
        "\n",
        "import matplotlib.pyplot as plt\n",
        "import matplotlib_inline.backend_inline\n",
        "matplotlib_inline.backend_inline.set_matplotlib_formats('svg')"
      ],
      "execution_count": null,
      "outputs": []
    },
    {
      "cell_type": "markdown",
      "metadata": {
        "id": "0HOkOefftqyg"
      },
      "source": [
        "# Import and process the data"
      ]
    },
    {
      "cell_type": "code",
      "metadata": {
        "id": "MU7rvmWuhjud"
      },
      "source": [
        "# import dataset (comes with colab!)\n",
        "data = np.loadtxt(open('sample_data/mnist_train_small.csv','rb'),delimiter=',')\n",
        "\n",
        "# extract labels (number IDs) and remove from data\n",
        "labels = data[:,0]\n",
        "data   = data[:,1:]"
      ],
      "execution_count": null,
      "outputs": []
    },
    {
      "cell_type": "code",
      "metadata": {
        "id": "8948Heuwth0l",
        "colab": {
          "base_uri": "https://localhost:8080/",
          "height": 395
        },
        "outputId": "0c03fca6-2025-4dcc-e0a9-8a684db6409a"
      },
      "source": [
        "# normalize the data to a range of [0 1]\n",
        "dataNorm = data / np.max(data)\n",
        "\n",
        "fig,ax = plt.subplots(1,2,figsize=(10,4))\n",
        "ax[0].hist(data.flatten(),50)\n",
        "ax[0].set_xlabel('Pixel intensity values')\n",
        "ax[0].set_ylabel('Count')\n",
        "ax[0].set_title('Histogram of original data')\n",
        "\n",
        "ax[1].hist(dataNorm.flatten(),50)\n",
        "ax[1].set_xlabel('Pixel intensity values')\n",
        "ax[1].set_ylabel('Count')\n",
        "ax[1].set_title('Histogram of normalized data')\n",
        "\n",
        "plt.show()"
      ],
      "execution_count": null,
      "outputs": [
        {
          "output_type": "display_data",
          "data": {
            "text/plain": [
              "<Figure size 1000x400 with 2 Axes>"
            ],
            "image/svg+xml": "<?xml version=\"1.0\" encoding=\"utf-8\" standalone=\"no\"?>\n<!DOCTYPE svg PUBLIC \"-//W3C//DTD SVG 1.1//EN\"\n  \"http://www.w3.org/Graphics/SVG/1.1/DTD/svg11.dtd\">\n<svg xmlns:xlink=\"http://www.w3.org/1999/xlink\" width=\"608.98125pt\" height=\"281.634375pt\" viewBox=\"0 0 608.98125 281.634375\" xmlns=\"http://www.w3.org/2000/svg\" version=\"1.1\">\n <metadata>\n  <rdf:RDF xmlns:dc=\"http://purl.org/dc/elements/1.1/\" xmlns:cc=\"http://creativecommons.org/ns#\" xmlns:rdf=\"http://www.w3.org/1999/02/22-rdf-syntax-ns#\">\n   <cc:Work>\n    <dc:type rdf:resource=\"http://purl.org/dc/dcmitype/StillImage\"/>\n    <dc:date>2024-04-25T16:46:44.917997</dc:date>\n    <dc:format>image/svg+xml</dc:format>\n    <dc:creator>\n     <cc:Agent>\n      <dc:title>Matplotlib v3.7.1, https://matplotlib.org/</dc:title>\n     </cc:Agent>\n    </dc:creator>\n   </cc:Work>\n  </rdf:RDF>\n </metadata>\n <defs>\n  <style type=\"text/css\">*{stroke-linejoin: round; stroke-linecap: butt}</style>\n </defs>\n <g id=\"figure_1\">\n  <g id=\"patch_1\">\n   <path d=\"M 0 281.634375 \nL 608.98125 281.634375 \nL 608.98125 0 \nL 0 0 \nz\n\" style=\"fill: #ffffff\"/>\n  </g>\n  <g id=\"axes_1\">\n   <g id=\"patch_2\">\n    <path d=\"M 43.78125 244.078125 \nL 297.417614 244.078125 \nL 297.417614 22.318125 \nL 43.78125 22.318125 \nz\n\" style=\"fill: #ffffff\"/>\n   </g>\n   <g id=\"patch_3\">\n    <path d=\"M 55.310176 244.078125 \nL 59.921746 244.078125 \nL 59.921746 32.878125 \nL 55.310176 32.878125 \nz\n\" clip-path=\"url(#p57882c5d64)\" style=\"fill: #1f77b4\"/>\n   </g>\n   <g id=\"patch_4\">\n    <path d=\"M 59.921746 244.078125 \nL 64.533316 244.078125 \nL 64.533316 243.077695 \nL 59.921746 243.077695 \nz\n\" clip-path=\"url(#p57882c5d64)\" style=\"fill: #1f77b4\"/>\n   </g>\n   <g id=\"patch_5\">\n    <path d=\"M 64.533316 244.078125 \nL 69.144886 244.078125 \nL 69.144886 243.185321 \nL 64.533316 243.185321 \nz\n\" clip-path=\"url(#p57882c5d64)\" style=\"fill: #1f77b4\"/>\n   </g>\n   <g id=\"patch_6\">\n    <path d=\"M 69.144886 244.078125 \nL 73.756457 244.078125 \nL 73.756457 243.258696 \nL 69.144886 243.258696 \nz\n\" clip-path=\"url(#p57882c5d64)\" style=\"fill: #1f77b4\"/>\n   </g>\n   <g id=\"patch_7\">\n    <path d=\"M 73.756457 244.078125 \nL 78.368027 244.078125 \nL 78.368027 243.295815 \nL 73.756457 243.295815 \nz\n\" clip-path=\"url(#p57882c5d64)\" style=\"fill: #1f77b4\"/>\n   </g>\n   <g id=\"patch_8\">\n    <path d=\"M 78.368027 244.078125 \nL 82.979597 244.078125 \nL 82.979597 243.333265 \nL 78.368027 243.333265 \nz\n\" clip-path=\"url(#p57882c5d64)\" style=\"fill: #1f77b4\"/>\n   </g>\n   <g id=\"patch_9\">\n    <path d=\"M 82.979597 244.078125 \nL 87.591167 244.078125 \nL 87.591167 243.460122 \nL 82.979597 243.460122 \nz\n\" clip-path=\"url(#p57882c5d64)\" style=\"fill: #1f77b4\"/>\n   </g>\n   <g id=\"patch_10\">\n    <path d=\"M 87.591167 244.078125 \nL 92.202738 244.078125 \nL 92.202738 243.465377 \nL 87.591167 243.465377 \nz\n\" clip-path=\"url(#p57882c5d64)\" style=\"fill: #1f77b4\"/>\n   </g>\n   <g id=\"patch_11\">\n    <path d=\"M 92.202738 244.078125 \nL 96.814308 244.078125 \nL 96.814308 243.468842 \nL 92.202738 243.468842 \nz\n\" clip-path=\"url(#p57882c5d64)\" style=\"fill: #1f77b4\"/>\n   </g>\n   <g id=\"patch_12\">\n    <path d=\"M 96.814308 244.078125 \nL 101.425878 244.078125 \nL 101.425878 243.510271 \nL 96.814308 243.510271 \nz\n\" clip-path=\"url(#p57882c5d64)\" style=\"fill: #1f77b4\"/>\n   </g>\n   <g id=\"patch_13\">\n    <path d=\"M 101.425878 244.078125 \nL 106.037448 244.078125 \nL 106.037448 243.421826 \nL 101.425878 243.421826 \nz\n\" clip-path=\"url(#p57882c5d64)\" style=\"fill: #1f77b4\"/>\n   </g>\n   <g id=\"patch_14\">\n    <path d=\"M 106.037448 244.078125 \nL 110.649019 244.078125 \nL 110.649019 243.517748 \nL 106.037448 243.517748 \nz\n\" clip-path=\"url(#p57882c5d64)\" style=\"fill: #1f77b4\"/>\n   </g>\n   <g id=\"patch_15\">\n    <path d=\"M 110.649019 244.078125 \nL 115.260589 244.078125 \nL 115.260589 243.393511 \nL 110.649019 243.393511 \nz\n\" clip-path=\"url(#p57882c5d64)\" style=\"fill: #1f77b4\"/>\n   </g>\n   <g id=\"patch_16\">\n    <path d=\"M 115.260589 244.078125 \nL 119.872159 244.078125 \nL 119.872159 243.604535 \nL 115.260589 243.604535 \nz\n\" clip-path=\"url(#p57882c5d64)\" style=\"fill: #1f77b4\"/>\n   </g>\n   <g id=\"patch_17\">\n    <path d=\"M 119.872159 244.078125 \nL 124.483729 244.078125 \nL 124.483729 243.61846 \nL 119.872159 243.61846 \nz\n\" clip-path=\"url(#p57882c5d64)\" style=\"fill: #1f77b4\"/>\n   </g>\n   <g id=\"patch_18\">\n    <path d=\"M 124.483729 244.078125 \nL 129.0953 244.078125 \nL 129.0953 243.626534 \nL 124.483729 243.626534 \nz\n\" clip-path=\"url(#p57882c5d64)\" style=\"fill: #1f77b4\"/>\n   </g>\n   <g id=\"patch_19\">\n    <path d=\"M 129.0953 244.078125 \nL 133.70687 244.078125 \nL 133.70687 243.43353 \nL 129.0953 243.43353 \nz\n\" clip-path=\"url(#p57882c5d64)\" style=\"fill: #1f77b4\"/>\n   </g>\n   <g id=\"patch_20\">\n    <path d=\"M 133.70687 244.078125 \nL 138.31844 244.078125 \nL 138.31844 243.654502 \nL 133.70687 243.654502 \nz\n\" clip-path=\"url(#p57882c5d64)\" style=\"fill: #1f77b4\"/>\n   </g>\n   <g id=\"patch_21\">\n    <path d=\"M 138.31844 244.078125 \nL 142.93001 244.078125 \nL 142.93001 243.605347 \nL 138.31844 243.605347 \nz\n\" clip-path=\"url(#p57882c5d64)\" style=\"fill: #1f77b4\"/>\n   </g>\n   <g id=\"patch_22\">\n    <path d=\"M 142.93001 244.078125 \nL 147.541581 244.078125 \nL 147.541581 243.64739 \nL 142.93001 243.64739 \nz\n\" clip-path=\"url(#p57882c5d64)\" style=\"fill: #1f77b4\"/>\n   </g>\n   <g id=\"patch_23\">\n    <path d=\"M 147.541581 244.078125 \nL 152.153151 244.078125 \nL 152.153151 243.51667 \nL 147.541581 243.51667 \nz\n\" clip-path=\"url(#p57882c5d64)\" style=\"fill: #1f77b4\"/>\n   </g>\n   <g id=\"patch_24\">\n    <path d=\"M 152.153151 244.078125 \nL 156.764721 244.078125 \nL 156.764721 243.605248 \nL 152.153151 243.605248 \nz\n\" clip-path=\"url(#p57882c5d64)\" style=\"fill: #1f77b4\"/>\n   </g>\n   <g id=\"patch_25\">\n    <path d=\"M 156.764721 244.078125 \nL 161.376291 244.078125 \nL 161.376291 243.560984 \nL 156.764721 243.560984 \nz\n\" clip-path=\"url(#p57882c5d64)\" style=\"fill: #1f77b4\"/>\n   </g>\n   <g id=\"patch_26\">\n    <path d=\"M 161.376291 244.078125 \nL 165.987862 244.078125 \nL 165.987862 243.625224 \nL 161.376291 243.625224 \nz\n\" clip-path=\"url(#p57882c5d64)\" style=\"fill: #1f77b4\"/>\n   </g>\n   <g id=\"patch_27\">\n    <path d=\"M 165.987862 244.078125 \nL 170.599432 244.078125 \nL 170.599432 243.631193 \nL 165.987862 243.631193 \nz\n\" clip-path=\"url(#p57882c5d64)\" style=\"fill: #1f77b4\"/>\n   </g>\n   <g id=\"patch_28\">\n    <path d=\"M 170.599432 244.078125 \nL 175.211002 244.078125 \nL 175.211002 243.261399 \nL 170.599432 243.261399 \nz\n\" clip-path=\"url(#p57882c5d64)\" style=\"fill: #1f77b4\"/>\n   </g>\n   <g id=\"patch_29\">\n    <path d=\"M 175.211002 244.078125 \nL 179.822572 244.078125 \nL 179.822572 243.635205 \nL 175.211002 243.635205 \nz\n\" clip-path=\"url(#p57882c5d64)\" style=\"fill: #1f77b4\"/>\n   </g>\n   <g id=\"patch_30\">\n    <path d=\"M 179.822572 244.078125 \nL 184.434143 244.078125 \nL 184.434143 243.530065 \nL 179.822572 243.530065 \nz\n\" clip-path=\"url(#p57882c5d64)\" style=\"fill: #1f77b4\"/>\n   </g>\n   <g id=\"patch_31\">\n    <path d=\"M 184.434143 244.078125 \nL 189.045713 244.078125 \nL 189.045713 243.607237 \nL 184.434143 243.607237 \nz\n\" clip-path=\"url(#p57882c5d64)\" style=\"fill: #1f77b4\"/>\n   </g>\n   <g id=\"patch_32\">\n    <path d=\"M 189.045713 244.078125 \nL 193.657283 244.078125 \nL 193.657283 243.589167 \nL 189.045713 243.589167 \nz\n\" clip-path=\"url(#p57882c5d64)\" style=\"fill: #1f77b4\"/>\n   </g>\n   <g id=\"patch_33\">\n    <path d=\"M 193.657283 244.078125 \nL 198.268853 244.078125 \nL 198.268853 243.509508 \nL 193.657283 243.509508 \nz\n\" clip-path=\"url(#p57882c5d64)\" style=\"fill: #1f77b4\"/>\n   </g>\n   <g id=\"patch_34\">\n    <path d=\"M 198.268853 244.078125 \nL 202.880424 244.078125 \nL 202.880424 243.594803 \nL 198.268853 243.594803 \nz\n\" clip-path=\"url(#p57882c5d64)\" style=\"fill: #1f77b4\"/>\n   </g>\n   <g id=\"patch_35\">\n    <path d=\"M 202.880424 244.078125 \nL 207.491994 244.078125 \nL 207.491994 243.607005 \nL 202.880424 243.607005 \nz\n\" clip-path=\"url(#p57882c5d64)\" style=\"fill: #1f77b4\"/>\n   </g>\n   <g id=\"patch_36\">\n    <path d=\"M 207.491994 244.078125 \nL 212.103564 244.078125 \nL 212.103564 243.465676 \nL 207.491994 243.465676 \nz\n\" clip-path=\"url(#p57882c5d64)\" style=\"fill: #1f77b4\"/>\n   </g>\n   <g id=\"patch_37\">\n    <path d=\"M 212.103564 244.078125 \nL 216.715134 244.078125 \nL 216.715134 243.614051 \nL 212.103564 243.614051 \nz\n\" clip-path=\"url(#p57882c5d64)\" style=\"fill: #1f77b4\"/>\n   </g>\n   <g id=\"patch_38\">\n    <path d=\"M 216.715134 244.078125 \nL 221.326705 244.078125 \nL 221.326705 243.591222 \nL 216.715134 243.591222 \nz\n\" clip-path=\"url(#p57882c5d64)\" style=\"fill: #1f77b4\"/>\n   </g>\n   <g id=\"patch_39\">\n    <path d=\"M 221.326705 244.078125 \nL 225.938275 244.078125 \nL 225.938275 243.608961 \nL 221.326705 243.608961 \nz\n\" clip-path=\"url(#p57882c5d64)\" style=\"fill: #1f77b4\"/>\n   </g>\n   <g id=\"patch_40\">\n    <path d=\"M 225.938275 244.078125 \nL 230.549845 244.078125 \nL 230.549845 243.362178 \nL 225.938275 243.362178 \nz\n\" clip-path=\"url(#p57882c5d64)\" style=\"fill: #1f77b4\"/>\n   </g>\n   <g id=\"patch_41\">\n    <path d=\"M 230.549845 244.078125 \nL 235.161415 244.078125 \nL 235.161415 243.465178 \nL 230.549845 243.465178 \nz\n\" clip-path=\"url(#p57882c5d64)\" style=\"fill: #1f77b4\"/>\n   </g>\n   <g id=\"patch_42\">\n    <path d=\"M 235.161415 244.078125 \nL 239.772986 244.078125 \nL 239.772986 243.504469 \nL 235.161415 243.504469 \nz\n\" clip-path=\"url(#p57882c5d64)\" style=\"fill: #1f77b4\"/>\n   </g>\n   <g id=\"patch_43\">\n    <path d=\"M 239.772986 244.078125 \nL 244.384556 244.078125 \nL 244.384556 243.43053 \nL 239.772986 243.43053 \nz\n\" clip-path=\"url(#p57882c5d64)\" style=\"fill: #1f77b4\"/>\n   </g>\n   <g id=\"patch_44\">\n    <path d=\"M 244.384556 244.078125 \nL 248.996126 244.078125 \nL 248.996126 243.424644 \nL 244.384556 243.424644 \nz\n\" clip-path=\"url(#p57882c5d64)\" style=\"fill: #1f77b4\"/>\n   </g>\n   <g id=\"patch_45\">\n    <path d=\"M 248.996126 244.078125 \nL 253.607696 244.078125 \nL 253.607696 243.46541 \nL 248.996126 243.46541 \nz\n\" clip-path=\"url(#p57882c5d64)\" style=\"fill: #1f77b4\"/>\n   </g>\n   <g id=\"patch_46\">\n    <path d=\"M 253.607696 244.078125 \nL 258.219267 244.078125 \nL 258.219267 243.408315 \nL 253.607696 243.408315 \nz\n\" clip-path=\"url(#p57882c5d64)\" style=\"fill: #1f77b4\"/>\n   </g>\n   <g id=\"patch_47\">\n    <path d=\"M 258.219267 244.078125 \nL 262.830837 244.078125 \nL 262.830837 243.306425 \nL 258.219267 243.306425 \nz\n\" clip-path=\"url(#p57882c5d64)\" style=\"fill: #1f77b4\"/>\n   </g>\n   <g id=\"patch_48\">\n    <path d=\"M 262.830837 244.078125 \nL 267.442407 244.078125 \nL 267.442407 243.216637 \nL 262.830837 243.216637 \nz\n\" clip-path=\"url(#p57882c5d64)\" style=\"fill: #1f77b4\"/>\n   </g>\n   <g id=\"patch_49\">\n    <path d=\"M 267.442407 244.078125 \nL 272.053977 244.078125 \nL 272.053977 243.274296 \nL 267.442407 243.274296 \nz\n\" clip-path=\"url(#p57882c5d64)\" style=\"fill: #1f77b4\"/>\n   </g>\n   <g id=\"patch_50\">\n    <path d=\"M 272.053977 244.078125 \nL 276.665548 244.078125 \nL 276.665548 243.121014 \nL 272.053977 243.121014 \nz\n\" clip-path=\"url(#p57882c5d64)\" style=\"fill: #1f77b4\"/>\n   </g>\n   <g id=\"patch_51\">\n    <path d=\"M 276.665548 244.078125 \nL 281.277118 244.078125 \nL 281.277118 243.075905 \nL 276.665548 243.075905 \nz\n\" clip-path=\"url(#p57882c5d64)\" style=\"fill: #1f77b4\"/>\n   </g>\n   <g id=\"patch_52\">\n    <path d=\"M 281.277118 244.078125 \nL 285.888688 244.078125 \nL 285.888688 224.894115 \nL 281.277118 224.894115 \nz\n\" clip-path=\"url(#p57882c5d64)\" style=\"fill: #1f77b4\"/>\n   </g>\n   <g id=\"matplotlib.axis_1\">\n    <g id=\"xtick_1\">\n     <g id=\"line2d_1\">\n      <defs>\n       <path id=\"m1553a92346\" d=\"M 0 0 \nL 0 3.5 \n\" style=\"stroke: #000000; stroke-width: 0.8\"/>\n      </defs>\n      <g>\n       <use xlink:href=\"#m1553a92346\" x=\"55.310176\" y=\"244.078125\" style=\"stroke: #000000; stroke-width: 0.8\"/>\n      </g>\n     </g>\n     <g id=\"text_1\">\n      <!-- 0 -->\n      <g transform=\"translate(52.128926 258.676562) scale(0.1 -0.1)\">\n       <defs>\n        <path id=\"DejaVuSans-30\" d=\"M 2034 4250 \nQ 1547 4250 1301 3770 \nQ 1056 3291 1056 2328 \nQ 1056 1369 1301 889 \nQ 1547 409 2034 409 \nQ 2525 409 2770 889 \nQ 3016 1369 3016 2328 \nQ 3016 3291 2770 3770 \nQ 2525 4250 2034 4250 \nz\nM 2034 4750 \nQ 2819 4750 3233 4129 \nQ 3647 3509 3647 2328 \nQ 3647 1150 3233 529 \nQ 2819 -91 2034 -91 \nQ 1250 -91 836 529 \nQ 422 1150 422 2328 \nQ 422 3509 836 4129 \nQ 1250 4750 2034 4750 \nz\n\" transform=\"scale(0.015625)\"/>\n       </defs>\n       <use xlink:href=\"#DejaVuSans-30\"/>\n      </g>\n     </g>\n    </g>\n    <g id=\"xtick_2\">\n     <g id=\"line2d_2\">\n      <g>\n       <use xlink:href=\"#m1553a92346\" x=\"100.521649\" y=\"244.078125\" style=\"stroke: #000000; stroke-width: 0.8\"/>\n      </g>\n     </g>\n     <g id=\"text_2\">\n      <!-- 50 -->\n      <g transform=\"translate(94.159149 258.676562) scale(0.1 -0.1)\">\n       <defs>\n        <path id=\"DejaVuSans-35\" d=\"M 691 4666 \nL 3169 4666 \nL 3169 4134 \nL 1269 4134 \nL 1269 2991 \nQ 1406 3038 1543 3061 \nQ 1681 3084 1819 3084 \nQ 2600 3084 3056 2656 \nQ 3513 2228 3513 1497 \nQ 3513 744 3044 326 \nQ 2575 -91 1722 -91 \nQ 1428 -91 1123 -41 \nQ 819 9 494 109 \nL 494 744 \nQ 775 591 1075 516 \nQ 1375 441 1709 441 \nQ 2250 441 2565 725 \nQ 2881 1009 2881 1497 \nQ 2881 1984 2565 2268 \nQ 2250 2553 1709 2553 \nQ 1456 2553 1204 2497 \nQ 953 2441 691 2322 \nL 691 4666 \nz\n\" transform=\"scale(0.015625)\"/>\n       </defs>\n       <use xlink:href=\"#DejaVuSans-35\"/>\n       <use xlink:href=\"#DejaVuSans-30\" x=\"63.623047\"/>\n      </g>\n     </g>\n    </g>\n    <g id=\"xtick_3\">\n     <g id=\"line2d_3\">\n      <g>\n       <use xlink:href=\"#m1553a92346\" x=\"145.733122\" y=\"244.078125\" style=\"stroke: #000000; stroke-width: 0.8\"/>\n      </g>\n     </g>\n     <g id=\"text_3\">\n      <!-- 100 -->\n      <g transform=\"translate(136.189372 258.676562) scale(0.1 -0.1)\">\n       <defs>\n        <path id=\"DejaVuSans-31\" d=\"M 794 531 \nL 1825 531 \nL 1825 4091 \nL 703 3866 \nL 703 4441 \nL 1819 4666 \nL 2450 4666 \nL 2450 531 \nL 3481 531 \nL 3481 0 \nL 794 0 \nL 794 531 \nz\n\" transform=\"scale(0.015625)\"/>\n       </defs>\n       <use xlink:href=\"#DejaVuSans-31\"/>\n       <use xlink:href=\"#DejaVuSans-30\" x=\"63.623047\"/>\n       <use xlink:href=\"#DejaVuSans-30\" x=\"127.246094\"/>\n      </g>\n     </g>\n    </g>\n    <g id=\"xtick_4\">\n     <g id=\"line2d_4\">\n      <g>\n       <use xlink:href=\"#m1553a92346\" x=\"190.944595\" y=\"244.078125\" style=\"stroke: #000000; stroke-width: 0.8\"/>\n      </g>\n     </g>\n     <g id=\"text_4\">\n      <!-- 150 -->\n      <g transform=\"translate(181.400845 258.676562) scale(0.1 -0.1)\">\n       <use xlink:href=\"#DejaVuSans-31\"/>\n       <use xlink:href=\"#DejaVuSans-35\" x=\"63.623047\"/>\n       <use xlink:href=\"#DejaVuSans-30\" x=\"127.246094\"/>\n      </g>\n     </g>\n    </g>\n    <g id=\"xtick_5\">\n     <g id=\"line2d_5\">\n      <g>\n       <use xlink:href=\"#m1553a92346\" x=\"236.156068\" y=\"244.078125\" style=\"stroke: #000000; stroke-width: 0.8\"/>\n      </g>\n     </g>\n     <g id=\"text_5\">\n      <!-- 200 -->\n      <g transform=\"translate(226.612318 258.676562) scale(0.1 -0.1)\">\n       <defs>\n        <path id=\"DejaVuSans-32\" d=\"M 1228 531 \nL 3431 531 \nL 3431 0 \nL 469 0 \nL 469 531 \nQ 828 903 1448 1529 \nQ 2069 2156 2228 2338 \nQ 2531 2678 2651 2914 \nQ 2772 3150 2772 3378 \nQ 2772 3750 2511 3984 \nQ 2250 4219 1831 4219 \nQ 1534 4219 1204 4116 \nQ 875 4013 500 3803 \nL 500 4441 \nQ 881 4594 1212 4672 \nQ 1544 4750 1819 4750 \nQ 2544 4750 2975 4387 \nQ 3406 4025 3406 3419 \nQ 3406 3131 3298 2873 \nQ 3191 2616 2906 2266 \nQ 2828 2175 2409 1742 \nQ 1991 1309 1228 531 \nz\n\" transform=\"scale(0.015625)\"/>\n       </defs>\n       <use xlink:href=\"#DejaVuSans-32\"/>\n       <use xlink:href=\"#DejaVuSans-30\" x=\"63.623047\"/>\n       <use xlink:href=\"#DejaVuSans-30\" x=\"127.246094\"/>\n      </g>\n     </g>\n    </g>\n    <g id=\"xtick_6\">\n     <g id=\"line2d_6\">\n      <g>\n       <use xlink:href=\"#m1553a92346\" x=\"281.367541\" y=\"244.078125\" style=\"stroke: #000000; stroke-width: 0.8\"/>\n      </g>\n     </g>\n     <g id=\"text_6\">\n      <!-- 250 -->\n      <g transform=\"translate(271.823791 258.676562) scale(0.1 -0.1)\">\n       <use xlink:href=\"#DejaVuSans-32\"/>\n       <use xlink:href=\"#DejaVuSans-35\" x=\"63.623047\"/>\n       <use xlink:href=\"#DejaVuSans-30\" x=\"127.246094\"/>\n      </g>\n     </g>\n    </g>\n    <g id=\"text_7\">\n     <!-- Pixel intensity values -->\n     <g transform=\"translate(117.922088 272.354687) scale(0.1 -0.1)\">\n      <defs>\n       <path id=\"DejaVuSans-50\" d=\"M 1259 4147 \nL 1259 2394 \nL 2053 2394 \nQ 2494 2394 2734 2622 \nQ 2975 2850 2975 3272 \nQ 2975 3691 2734 3919 \nQ 2494 4147 2053 4147 \nL 1259 4147 \nz\nM 628 4666 \nL 2053 4666 \nQ 2838 4666 3239 4311 \nQ 3641 3956 3641 3272 \nQ 3641 2581 3239 2228 \nQ 2838 1875 2053 1875 \nL 1259 1875 \nL 1259 0 \nL 628 0 \nL 628 4666 \nz\n\" transform=\"scale(0.015625)\"/>\n       <path id=\"DejaVuSans-69\" d=\"M 603 3500 \nL 1178 3500 \nL 1178 0 \nL 603 0 \nL 603 3500 \nz\nM 603 4863 \nL 1178 4863 \nL 1178 4134 \nL 603 4134 \nL 603 4863 \nz\n\" transform=\"scale(0.015625)\"/>\n       <path id=\"DejaVuSans-78\" d=\"M 3513 3500 \nL 2247 1797 \nL 3578 0 \nL 2900 0 \nL 1881 1375 \nL 863 0 \nL 184 0 \nL 1544 1831 \nL 300 3500 \nL 978 3500 \nL 1906 2253 \nL 2834 3500 \nL 3513 3500 \nz\n\" transform=\"scale(0.015625)\"/>\n       <path id=\"DejaVuSans-65\" d=\"M 3597 1894 \nL 3597 1613 \nL 953 1613 \nQ 991 1019 1311 708 \nQ 1631 397 2203 397 \nQ 2534 397 2845 478 \nQ 3156 559 3463 722 \nL 3463 178 \nQ 3153 47 2828 -22 \nQ 2503 -91 2169 -91 \nQ 1331 -91 842 396 \nQ 353 884 353 1716 \nQ 353 2575 817 3079 \nQ 1281 3584 2069 3584 \nQ 2775 3584 3186 3129 \nQ 3597 2675 3597 1894 \nz\nM 3022 2063 \nQ 3016 2534 2758 2815 \nQ 2500 3097 2075 3097 \nQ 1594 3097 1305 2825 \nQ 1016 2553 972 2059 \nL 3022 2063 \nz\n\" transform=\"scale(0.015625)\"/>\n       <path id=\"DejaVuSans-6c\" d=\"M 603 4863 \nL 1178 4863 \nL 1178 0 \nL 603 0 \nL 603 4863 \nz\n\" transform=\"scale(0.015625)\"/>\n       <path id=\"DejaVuSans-20\" transform=\"scale(0.015625)\"/>\n       <path id=\"DejaVuSans-6e\" d=\"M 3513 2113 \nL 3513 0 \nL 2938 0 \nL 2938 2094 \nQ 2938 2591 2744 2837 \nQ 2550 3084 2163 3084 \nQ 1697 3084 1428 2787 \nQ 1159 2491 1159 1978 \nL 1159 0 \nL 581 0 \nL 581 3500 \nL 1159 3500 \nL 1159 2956 \nQ 1366 3272 1645 3428 \nQ 1925 3584 2291 3584 \nQ 2894 3584 3203 3211 \nQ 3513 2838 3513 2113 \nz\n\" transform=\"scale(0.015625)\"/>\n       <path id=\"DejaVuSans-74\" d=\"M 1172 4494 \nL 1172 3500 \nL 2356 3500 \nL 2356 3053 \nL 1172 3053 \nL 1172 1153 \nQ 1172 725 1289 603 \nQ 1406 481 1766 481 \nL 2356 481 \nL 2356 0 \nL 1766 0 \nQ 1100 0 847 248 \nQ 594 497 594 1153 \nL 594 3053 \nL 172 3053 \nL 172 3500 \nL 594 3500 \nL 594 4494 \nL 1172 4494 \nz\n\" transform=\"scale(0.015625)\"/>\n       <path id=\"DejaVuSans-73\" d=\"M 2834 3397 \nL 2834 2853 \nQ 2591 2978 2328 3040 \nQ 2066 3103 1784 3103 \nQ 1356 3103 1142 2972 \nQ 928 2841 928 2578 \nQ 928 2378 1081 2264 \nQ 1234 2150 1697 2047 \nL 1894 2003 \nQ 2506 1872 2764 1633 \nQ 3022 1394 3022 966 \nQ 3022 478 2636 193 \nQ 2250 -91 1575 -91 \nQ 1294 -91 989 -36 \nQ 684 19 347 128 \nL 347 722 \nQ 666 556 975 473 \nQ 1284 391 1588 391 \nQ 1994 391 2212 530 \nQ 2431 669 2431 922 \nQ 2431 1156 2273 1281 \nQ 2116 1406 1581 1522 \nL 1381 1569 \nQ 847 1681 609 1914 \nQ 372 2147 372 2553 \nQ 372 3047 722 3315 \nQ 1072 3584 1716 3584 \nQ 2034 3584 2315 3537 \nQ 2597 3491 2834 3397 \nz\n\" transform=\"scale(0.015625)\"/>\n       <path id=\"DejaVuSans-79\" d=\"M 2059 -325 \nQ 1816 -950 1584 -1140 \nQ 1353 -1331 966 -1331 \nL 506 -1331 \nL 506 -850 \nL 844 -850 \nQ 1081 -850 1212 -737 \nQ 1344 -625 1503 -206 \nL 1606 56 \nL 191 3500 \nL 800 3500 \nL 1894 763 \nL 2988 3500 \nL 3597 3500 \nL 2059 -325 \nz\n\" transform=\"scale(0.015625)\"/>\n       <path id=\"DejaVuSans-76\" d=\"M 191 3500 \nL 800 3500 \nL 1894 563 \nL 2988 3500 \nL 3597 3500 \nL 2284 0 \nL 1503 0 \nL 191 3500 \nz\n\" transform=\"scale(0.015625)\"/>\n       <path id=\"DejaVuSans-61\" d=\"M 2194 1759 \nQ 1497 1759 1228 1600 \nQ 959 1441 959 1056 \nQ 959 750 1161 570 \nQ 1363 391 1709 391 \nQ 2188 391 2477 730 \nQ 2766 1069 2766 1631 \nL 2766 1759 \nL 2194 1759 \nz\nM 3341 1997 \nL 3341 0 \nL 2766 0 \nL 2766 531 \nQ 2569 213 2275 61 \nQ 1981 -91 1556 -91 \nQ 1019 -91 701 211 \nQ 384 513 384 1019 \nQ 384 1609 779 1909 \nQ 1175 2209 1959 2209 \nL 2766 2209 \nL 2766 2266 \nQ 2766 2663 2505 2880 \nQ 2244 3097 1772 3097 \nQ 1472 3097 1187 3025 \nQ 903 2953 641 2809 \nL 641 3341 \nQ 956 3463 1253 3523 \nQ 1550 3584 1831 3584 \nQ 2591 3584 2966 3190 \nQ 3341 2797 3341 1997 \nz\n\" transform=\"scale(0.015625)\"/>\n       <path id=\"DejaVuSans-75\" d=\"M 544 1381 \nL 544 3500 \nL 1119 3500 \nL 1119 1403 \nQ 1119 906 1312 657 \nQ 1506 409 1894 409 \nQ 2359 409 2629 706 \nQ 2900 1003 2900 1516 \nL 2900 3500 \nL 3475 3500 \nL 3475 0 \nL 2900 0 \nL 2900 538 \nQ 2691 219 2414 64 \nQ 2138 -91 1772 -91 \nQ 1169 -91 856 284 \nQ 544 659 544 1381 \nz\nM 1991 3584 \nL 1991 3584 \nz\n\" transform=\"scale(0.015625)\"/>\n      </defs>\n      <use xlink:href=\"#DejaVuSans-50\"/>\n      <use xlink:href=\"#DejaVuSans-69\" x=\"58.052734\"/>\n      <use xlink:href=\"#DejaVuSans-78\" x=\"85.835938\"/>\n      <use xlink:href=\"#DejaVuSans-65\" x=\"141.890625\"/>\n      <use xlink:href=\"#DejaVuSans-6c\" x=\"203.414062\"/>\n      <use xlink:href=\"#DejaVuSans-20\" x=\"231.197266\"/>\n      <use xlink:href=\"#DejaVuSans-69\" x=\"262.984375\"/>\n      <use xlink:href=\"#DejaVuSans-6e\" x=\"290.767578\"/>\n      <use xlink:href=\"#DejaVuSans-74\" x=\"354.146484\"/>\n      <use xlink:href=\"#DejaVuSans-65\" x=\"393.355469\"/>\n      <use xlink:href=\"#DejaVuSans-6e\" x=\"454.878906\"/>\n      <use xlink:href=\"#DejaVuSans-73\" x=\"518.257812\"/>\n      <use xlink:href=\"#DejaVuSans-69\" x=\"570.357422\"/>\n      <use xlink:href=\"#DejaVuSans-74\" x=\"598.140625\"/>\n      <use xlink:href=\"#DejaVuSans-79\" x=\"637.349609\"/>\n      <use xlink:href=\"#DejaVuSans-20\" x=\"696.529297\"/>\n      <use xlink:href=\"#DejaVuSans-76\" x=\"728.316406\"/>\n      <use xlink:href=\"#DejaVuSans-61\" x=\"787.496094\"/>\n      <use xlink:href=\"#DejaVuSans-6c\" x=\"848.775391\"/>\n      <use xlink:href=\"#DejaVuSans-75\" x=\"876.558594\"/>\n      <use xlink:href=\"#DejaVuSans-65\" x=\"939.9375\"/>\n      <use xlink:href=\"#DejaVuSans-73\" x=\"1001.460938\"/>\n     </g>\n    </g>\n   </g>\n   <g id=\"matplotlib.axis_2\">\n    <g id=\"ytick_1\">\n     <g id=\"line2d_7\">\n      <defs>\n       <path id=\"m0c8548cf0e\" d=\"M 0 0 \nL -3.5 0 \n\" style=\"stroke: #000000; stroke-width: 0.8\"/>\n      </defs>\n      <g>\n       <use xlink:href=\"#m0c8548cf0e\" x=\"43.78125\" y=\"244.078125\" style=\"stroke: #000000; stroke-width: 0.8\"/>\n      </g>\n     </g>\n     <g id=\"text_8\">\n      <!-- 0.0 -->\n      <g transform=\"translate(20.878125 247.877344) scale(0.1 -0.1)\">\n       <defs>\n        <path id=\"DejaVuSans-2e\" d=\"M 684 794 \nL 1344 794 \nL 1344 0 \nL 684 0 \nL 684 794 \nz\n\" transform=\"scale(0.015625)\"/>\n       </defs>\n       <use xlink:href=\"#DejaVuSans-30\"/>\n       <use xlink:href=\"#DejaVuSans-2e\" x=\"63.623047\"/>\n       <use xlink:href=\"#DejaVuSans-30\" x=\"95.410156\"/>\n      </g>\n     </g>\n    </g>\n    <g id=\"ytick_2\">\n     <g id=\"line2d_8\">\n      <g>\n       <use xlink:href=\"#m0c8548cf0e\" x=\"43.78125\" y=\"210.921671\" style=\"stroke: #000000; stroke-width: 0.8\"/>\n      </g>\n     </g>\n     <g id=\"text_9\">\n      <!-- 0.2 -->\n      <g transform=\"translate(20.878125 214.720889) scale(0.1 -0.1)\">\n       <use xlink:href=\"#DejaVuSans-30\"/>\n       <use xlink:href=\"#DejaVuSans-2e\" x=\"63.623047\"/>\n       <use xlink:href=\"#DejaVuSans-32\" x=\"95.410156\"/>\n      </g>\n     </g>\n    </g>\n    <g id=\"ytick_3\">\n     <g id=\"line2d_9\">\n      <g>\n       <use xlink:href=\"#m0c8548cf0e\" x=\"43.78125\" y=\"177.765216\" style=\"stroke: #000000; stroke-width: 0.8\"/>\n      </g>\n     </g>\n     <g id=\"text_10\">\n      <!-- 0.4 -->\n      <g transform=\"translate(20.878125 181.564435) scale(0.1 -0.1)\">\n       <defs>\n        <path id=\"DejaVuSans-34\" d=\"M 2419 4116 \nL 825 1625 \nL 2419 1625 \nL 2419 4116 \nz\nM 2253 4666 \nL 3047 4666 \nL 3047 1625 \nL 3713 1625 \nL 3713 1100 \nL 3047 1100 \nL 3047 0 \nL 2419 0 \nL 2419 1100 \nL 313 1100 \nL 313 1709 \nL 2253 4666 \nz\n\" transform=\"scale(0.015625)\"/>\n       </defs>\n       <use xlink:href=\"#DejaVuSans-30\"/>\n       <use xlink:href=\"#DejaVuSans-2e\" x=\"63.623047\"/>\n       <use xlink:href=\"#DejaVuSans-34\" x=\"95.410156\"/>\n      </g>\n     </g>\n    </g>\n    <g id=\"ytick_4\">\n     <g id=\"line2d_10\">\n      <g>\n       <use xlink:href=\"#m0c8548cf0e\" x=\"43.78125\" y=\"144.608762\" style=\"stroke: #000000; stroke-width: 0.8\"/>\n      </g>\n     </g>\n     <g id=\"text_11\">\n      <!-- 0.6 -->\n      <g transform=\"translate(20.878125 148.40798) scale(0.1 -0.1)\">\n       <defs>\n        <path id=\"DejaVuSans-36\" d=\"M 2113 2584 \nQ 1688 2584 1439 2293 \nQ 1191 2003 1191 1497 \nQ 1191 994 1439 701 \nQ 1688 409 2113 409 \nQ 2538 409 2786 701 \nQ 3034 994 3034 1497 \nQ 3034 2003 2786 2293 \nQ 2538 2584 2113 2584 \nz\nM 3366 4563 \nL 3366 3988 \nQ 3128 4100 2886 4159 \nQ 2644 4219 2406 4219 \nQ 1781 4219 1451 3797 \nQ 1122 3375 1075 2522 \nQ 1259 2794 1537 2939 \nQ 1816 3084 2150 3084 \nQ 2853 3084 3261 2657 \nQ 3669 2231 3669 1497 \nQ 3669 778 3244 343 \nQ 2819 -91 2113 -91 \nQ 1303 -91 875 529 \nQ 447 1150 447 2328 \nQ 447 3434 972 4092 \nQ 1497 4750 2381 4750 \nQ 2619 4750 2861 4703 \nQ 3103 4656 3366 4563 \nz\n\" transform=\"scale(0.015625)\"/>\n       </defs>\n       <use xlink:href=\"#DejaVuSans-30\"/>\n       <use xlink:href=\"#DejaVuSans-2e\" x=\"63.623047\"/>\n       <use xlink:href=\"#DejaVuSans-36\" x=\"95.410156\"/>\n      </g>\n     </g>\n    </g>\n    <g id=\"ytick_5\">\n     <g id=\"line2d_11\">\n      <g>\n       <use xlink:href=\"#m0c8548cf0e\" x=\"43.78125\" y=\"111.452307\" style=\"stroke: #000000; stroke-width: 0.8\"/>\n      </g>\n     </g>\n     <g id=\"text_12\">\n      <!-- 0.8 -->\n      <g transform=\"translate(20.878125 115.251526) scale(0.1 -0.1)\">\n       <defs>\n        <path id=\"DejaVuSans-38\" d=\"M 2034 2216 \nQ 1584 2216 1326 1975 \nQ 1069 1734 1069 1313 \nQ 1069 891 1326 650 \nQ 1584 409 2034 409 \nQ 2484 409 2743 651 \nQ 3003 894 3003 1313 \nQ 3003 1734 2745 1975 \nQ 2488 2216 2034 2216 \nz\nM 1403 2484 \nQ 997 2584 770 2862 \nQ 544 3141 544 3541 \nQ 544 4100 942 4425 \nQ 1341 4750 2034 4750 \nQ 2731 4750 3128 4425 \nQ 3525 4100 3525 3541 \nQ 3525 3141 3298 2862 \nQ 3072 2584 2669 2484 \nQ 3125 2378 3379 2068 \nQ 3634 1759 3634 1313 \nQ 3634 634 3220 271 \nQ 2806 -91 2034 -91 \nQ 1263 -91 848 271 \nQ 434 634 434 1313 \nQ 434 1759 690 2068 \nQ 947 2378 1403 2484 \nz\nM 1172 3481 \nQ 1172 3119 1398 2916 \nQ 1625 2713 2034 2713 \nQ 2441 2713 2670 2916 \nQ 2900 3119 2900 3481 \nQ 2900 3844 2670 4047 \nQ 2441 4250 2034 4250 \nQ 1625 4250 1398 4047 \nQ 1172 3844 1172 3481 \nz\n\" transform=\"scale(0.015625)\"/>\n       </defs>\n       <use xlink:href=\"#DejaVuSans-30\"/>\n       <use xlink:href=\"#DejaVuSans-2e\" x=\"63.623047\"/>\n       <use xlink:href=\"#DejaVuSans-38\" x=\"95.410156\"/>\n      </g>\n     </g>\n    </g>\n    <g id=\"ytick_6\">\n     <g id=\"line2d_12\">\n      <g>\n       <use xlink:href=\"#m0c8548cf0e\" x=\"43.78125\" y=\"78.295853\" style=\"stroke: #000000; stroke-width: 0.8\"/>\n      </g>\n     </g>\n     <g id=\"text_13\">\n      <!-- 1.0 -->\n      <g transform=\"translate(20.878125 82.095072) scale(0.1 -0.1)\">\n       <use xlink:href=\"#DejaVuSans-31\"/>\n       <use xlink:href=\"#DejaVuSans-2e\" x=\"63.623047\"/>\n       <use xlink:href=\"#DejaVuSans-30\" x=\"95.410156\"/>\n      </g>\n     </g>\n    </g>\n    <g id=\"ytick_7\">\n     <g id=\"line2d_13\">\n      <g>\n       <use xlink:href=\"#m0c8548cf0e\" x=\"43.78125\" y=\"45.139398\" style=\"stroke: #000000; stroke-width: 0.8\"/>\n      </g>\n     </g>\n     <g id=\"text_14\">\n      <!-- 1.2 -->\n      <g transform=\"translate(20.878125 48.938617) scale(0.1 -0.1)\">\n       <use xlink:href=\"#DejaVuSans-31\"/>\n       <use xlink:href=\"#DejaVuSans-2e\" x=\"63.623047\"/>\n       <use xlink:href=\"#DejaVuSans-32\" x=\"95.410156\"/>\n      </g>\n     </g>\n    </g>\n    <g id=\"text_15\">\n     <!-- Count -->\n     <g transform=\"translate(14.798438 148.046562) rotate(-90) scale(0.1 -0.1)\">\n      <defs>\n       <path id=\"DejaVuSans-43\" d=\"M 4122 4306 \nL 4122 3641 \nQ 3803 3938 3442 4084 \nQ 3081 4231 2675 4231 \nQ 1875 4231 1450 3742 \nQ 1025 3253 1025 2328 \nQ 1025 1406 1450 917 \nQ 1875 428 2675 428 \nQ 3081 428 3442 575 \nQ 3803 722 4122 1019 \nL 4122 359 \nQ 3791 134 3420 21 \nQ 3050 -91 2638 -91 \nQ 1578 -91 968 557 \nQ 359 1206 359 2328 \nQ 359 3453 968 4101 \nQ 1578 4750 2638 4750 \nQ 3056 4750 3426 4639 \nQ 3797 4528 4122 4306 \nz\n\" transform=\"scale(0.015625)\"/>\n       <path id=\"DejaVuSans-6f\" d=\"M 1959 3097 \nQ 1497 3097 1228 2736 \nQ 959 2375 959 1747 \nQ 959 1119 1226 758 \nQ 1494 397 1959 397 \nQ 2419 397 2687 759 \nQ 2956 1122 2956 1747 \nQ 2956 2369 2687 2733 \nQ 2419 3097 1959 3097 \nz\nM 1959 3584 \nQ 2709 3584 3137 3096 \nQ 3566 2609 3566 1747 \nQ 3566 888 3137 398 \nQ 2709 -91 1959 -91 \nQ 1206 -91 779 398 \nQ 353 888 353 1747 \nQ 353 2609 779 3096 \nQ 1206 3584 1959 3584 \nz\n\" transform=\"scale(0.015625)\"/>\n      </defs>\n      <use xlink:href=\"#DejaVuSans-43\"/>\n      <use xlink:href=\"#DejaVuSans-6f\" x=\"69.824219\"/>\n      <use xlink:href=\"#DejaVuSans-75\" x=\"131.005859\"/>\n      <use xlink:href=\"#DejaVuSans-6e\" x=\"194.384766\"/>\n      <use xlink:href=\"#DejaVuSans-74\" x=\"257.763672\"/>\n     </g>\n    </g>\n    <g id=\"text_16\">\n     <!-- 1e7 -->\n     <g transform=\"translate(43.78125 19.318125) scale(0.1 -0.1)\">\n      <defs>\n       <path id=\"DejaVuSans-37\" d=\"M 525 4666 \nL 3525 4666 \nL 3525 4397 \nL 1831 0 \nL 1172 0 \nL 2766 4134 \nL 525 4134 \nL 525 4666 \nz\n\" transform=\"scale(0.015625)\"/>\n      </defs>\n      <use xlink:href=\"#DejaVuSans-31\"/>\n      <use xlink:href=\"#DejaVuSans-65\" x=\"63.623047\"/>\n      <use xlink:href=\"#DejaVuSans-37\" x=\"125.146484\"/>\n     </g>\n    </g>\n   </g>\n   <g id=\"patch_53\">\n    <path d=\"M 43.78125 244.078125 \nL 43.78125 22.318125 \n\" style=\"fill: none; stroke: #000000; stroke-width: 0.8; stroke-linejoin: miter; stroke-linecap: square\"/>\n   </g>\n   <g id=\"patch_54\">\n    <path d=\"M 297.417614 244.078125 \nL 297.417614 22.318125 \n\" style=\"fill: none; stroke: #000000; stroke-width: 0.8; stroke-linejoin: miter; stroke-linecap: square\"/>\n   </g>\n   <g id=\"patch_55\">\n    <path d=\"M 43.78125 244.078125 \nL 297.417614 244.078125 \n\" style=\"fill: none; stroke: #000000; stroke-width: 0.8; stroke-linejoin: miter; stroke-linecap: square\"/>\n   </g>\n   <g id=\"patch_56\">\n    <path d=\"M 43.78125 22.318125 \nL 297.417614 22.318125 \n\" style=\"fill: none; stroke: #000000; stroke-width: 0.8; stroke-linejoin: miter; stroke-linecap: square\"/>\n   </g>\n   <g id=\"text_17\">\n    <!-- Histogram of original data -->\n    <g transform=\"translate(92.028494 16.318125) scale(0.12 -0.12)\">\n     <defs>\n      <path id=\"DejaVuSans-48\" d=\"M 628 4666 \nL 1259 4666 \nL 1259 2753 \nL 3553 2753 \nL 3553 4666 \nL 4184 4666 \nL 4184 0 \nL 3553 0 \nL 3553 2222 \nL 1259 2222 \nL 1259 0 \nL 628 0 \nL 628 4666 \nz\n\" transform=\"scale(0.015625)\"/>\n      <path id=\"DejaVuSans-67\" d=\"M 2906 1791 \nQ 2906 2416 2648 2759 \nQ 2391 3103 1925 3103 \nQ 1463 3103 1205 2759 \nQ 947 2416 947 1791 \nQ 947 1169 1205 825 \nQ 1463 481 1925 481 \nQ 2391 481 2648 825 \nQ 2906 1169 2906 1791 \nz\nM 3481 434 \nQ 3481 -459 3084 -895 \nQ 2688 -1331 1869 -1331 \nQ 1566 -1331 1297 -1286 \nQ 1028 -1241 775 -1147 \nL 775 -588 \nQ 1028 -725 1275 -790 \nQ 1522 -856 1778 -856 \nQ 2344 -856 2625 -561 \nQ 2906 -266 2906 331 \nL 2906 616 \nQ 2728 306 2450 153 \nQ 2172 0 1784 0 \nQ 1141 0 747 490 \nQ 353 981 353 1791 \nQ 353 2603 747 3093 \nQ 1141 3584 1784 3584 \nQ 2172 3584 2450 3431 \nQ 2728 3278 2906 2969 \nL 2906 3500 \nL 3481 3500 \nL 3481 434 \nz\n\" transform=\"scale(0.015625)\"/>\n      <path id=\"DejaVuSans-72\" d=\"M 2631 2963 \nQ 2534 3019 2420 3045 \nQ 2306 3072 2169 3072 \nQ 1681 3072 1420 2755 \nQ 1159 2438 1159 1844 \nL 1159 0 \nL 581 0 \nL 581 3500 \nL 1159 3500 \nL 1159 2956 \nQ 1341 3275 1631 3429 \nQ 1922 3584 2338 3584 \nQ 2397 3584 2469 3576 \nQ 2541 3569 2628 3553 \nL 2631 2963 \nz\n\" transform=\"scale(0.015625)\"/>\n      <path id=\"DejaVuSans-6d\" d=\"M 3328 2828 \nQ 3544 3216 3844 3400 \nQ 4144 3584 4550 3584 \nQ 5097 3584 5394 3201 \nQ 5691 2819 5691 2113 \nL 5691 0 \nL 5113 0 \nL 5113 2094 \nQ 5113 2597 4934 2840 \nQ 4756 3084 4391 3084 \nQ 3944 3084 3684 2787 \nQ 3425 2491 3425 1978 \nL 3425 0 \nL 2847 0 \nL 2847 2094 \nQ 2847 2600 2669 2842 \nQ 2491 3084 2119 3084 \nQ 1678 3084 1418 2786 \nQ 1159 2488 1159 1978 \nL 1159 0 \nL 581 0 \nL 581 3500 \nL 1159 3500 \nL 1159 2956 \nQ 1356 3278 1631 3431 \nQ 1906 3584 2284 3584 \nQ 2666 3584 2933 3390 \nQ 3200 3197 3328 2828 \nz\n\" transform=\"scale(0.015625)\"/>\n      <path id=\"DejaVuSans-66\" d=\"M 2375 4863 \nL 2375 4384 \nL 1825 4384 \nQ 1516 4384 1395 4259 \nQ 1275 4134 1275 3809 \nL 1275 3500 \nL 2222 3500 \nL 2222 3053 \nL 1275 3053 \nL 1275 0 \nL 697 0 \nL 697 3053 \nL 147 3053 \nL 147 3500 \nL 697 3500 \nL 697 3744 \nQ 697 4328 969 4595 \nQ 1241 4863 1831 4863 \nL 2375 4863 \nz\n\" transform=\"scale(0.015625)\"/>\n      <path id=\"DejaVuSans-64\" d=\"M 2906 2969 \nL 2906 4863 \nL 3481 4863 \nL 3481 0 \nL 2906 0 \nL 2906 525 \nQ 2725 213 2448 61 \nQ 2172 -91 1784 -91 \nQ 1150 -91 751 415 \nQ 353 922 353 1747 \nQ 353 2572 751 3078 \nQ 1150 3584 1784 3584 \nQ 2172 3584 2448 3432 \nQ 2725 3281 2906 2969 \nz\nM 947 1747 \nQ 947 1113 1208 752 \nQ 1469 391 1925 391 \nQ 2381 391 2643 752 \nQ 2906 1113 2906 1747 \nQ 2906 2381 2643 2742 \nQ 2381 3103 1925 3103 \nQ 1469 3103 1208 2742 \nQ 947 2381 947 1747 \nz\n\" transform=\"scale(0.015625)\"/>\n     </defs>\n     <use xlink:href=\"#DejaVuSans-48\"/>\n     <use xlink:href=\"#DejaVuSans-69\" x=\"75.195312\"/>\n     <use xlink:href=\"#DejaVuSans-73\" x=\"102.978516\"/>\n     <use xlink:href=\"#DejaVuSans-74\" x=\"155.078125\"/>\n     <use xlink:href=\"#DejaVuSans-6f\" x=\"194.287109\"/>\n     <use xlink:href=\"#DejaVuSans-67\" x=\"255.46875\"/>\n     <use xlink:href=\"#DejaVuSans-72\" x=\"318.945312\"/>\n     <use xlink:href=\"#DejaVuSans-61\" x=\"360.058594\"/>\n     <use xlink:href=\"#DejaVuSans-6d\" x=\"421.337891\"/>\n     <use xlink:href=\"#DejaVuSans-20\" x=\"518.75\"/>\n     <use xlink:href=\"#DejaVuSans-6f\" x=\"550.537109\"/>\n     <use xlink:href=\"#DejaVuSans-66\" x=\"611.71875\"/>\n     <use xlink:href=\"#DejaVuSans-20\" x=\"646.923828\"/>\n     <use xlink:href=\"#DejaVuSans-6f\" x=\"678.710938\"/>\n     <use xlink:href=\"#DejaVuSans-72\" x=\"739.892578\"/>\n     <use xlink:href=\"#DejaVuSans-69\" x=\"781.005859\"/>\n     <use xlink:href=\"#DejaVuSans-67\" x=\"808.789062\"/>\n     <use xlink:href=\"#DejaVuSans-69\" x=\"872.265625\"/>\n     <use xlink:href=\"#DejaVuSans-6e\" x=\"900.048828\"/>\n     <use xlink:href=\"#DejaVuSans-61\" x=\"963.427734\"/>\n     <use xlink:href=\"#DejaVuSans-6c\" x=\"1024.707031\"/>\n     <use xlink:href=\"#DejaVuSans-20\" x=\"1052.490234\"/>\n     <use xlink:href=\"#DejaVuSans-64\" x=\"1084.277344\"/>\n     <use xlink:href=\"#DejaVuSans-61\" x=\"1147.753906\"/>\n     <use xlink:href=\"#DejaVuSans-74\" x=\"1209.033203\"/>\n     <use xlink:href=\"#DejaVuSans-61\" x=\"1248.242188\"/>\n    </g>\n   </g>\n  </g>\n  <g id=\"axes_2\">\n   <g id=\"patch_57\">\n    <path d=\"M 348.144886 244.078125 \nL 601.78125 244.078125 \nL 601.78125 22.318125 \nL 348.144886 22.318125 \nz\n\" style=\"fill: #ffffff\"/>\n   </g>\n   <g id=\"patch_58\">\n    <path d=\"M 359.673812 244.078125 \nL 364.285382 244.078125 \nL 364.285382 32.878125 \nL 359.673812 32.878125 \nz\n\" clip-path=\"url(#pf54e1d59cc)\" style=\"fill: #1f77b4\"/>\n   </g>\n   <g id=\"patch_59\">\n    <path d=\"M 364.285382 244.078125 \nL 368.896952 244.078125 \nL 368.896952 243.077695 \nL 364.285382 243.077695 \nz\n\" clip-path=\"url(#pf54e1d59cc)\" style=\"fill: #1f77b4\"/>\n   </g>\n   <g id=\"patch_60\">\n    <path d=\"M 368.896952 244.078125 \nL 373.508523 244.078125 \nL 373.508523 243.185321 \nL 368.896952 243.185321 \nz\n\" clip-path=\"url(#pf54e1d59cc)\" style=\"fill: #1f77b4\"/>\n   </g>\n   <g id=\"patch_61\">\n    <path d=\"M 373.508523 244.078125 \nL 378.120093 244.078125 \nL 378.120093 243.258696 \nL 373.508523 243.258696 \nz\n\" clip-path=\"url(#pf54e1d59cc)\" style=\"fill: #1f77b4\"/>\n   </g>\n   <g id=\"patch_62\">\n    <path d=\"M 378.120093 244.078125 \nL 382.731663 244.078125 \nL 382.731663 243.295815 \nL 378.120093 243.295815 \nz\n\" clip-path=\"url(#pf54e1d59cc)\" style=\"fill: #1f77b4\"/>\n   </g>\n   <g id=\"patch_63\">\n    <path d=\"M 382.731663 244.078125 \nL 387.343233 244.078125 \nL 387.343233 243.333265 \nL 382.731663 243.333265 \nz\n\" clip-path=\"url(#pf54e1d59cc)\" style=\"fill: #1f77b4\"/>\n   </g>\n   <g id=\"patch_64\">\n    <path d=\"M 387.343233 244.078125 \nL 391.954804 244.078125 \nL 391.954804 243.460122 \nL 387.343233 243.460122 \nz\n\" clip-path=\"url(#pf54e1d59cc)\" style=\"fill: #1f77b4\"/>\n   </g>\n   <g id=\"patch_65\">\n    <path d=\"M 391.954804 244.078125 \nL 396.566374 244.078125 \nL 396.566374 243.465377 \nL 391.954804 243.465377 \nz\n\" clip-path=\"url(#pf54e1d59cc)\" style=\"fill: #1f77b4\"/>\n   </g>\n   <g id=\"patch_66\">\n    <path d=\"M 396.566374 244.078125 \nL 401.177944 244.078125 \nL 401.177944 243.468842 \nL 396.566374 243.468842 \nz\n\" clip-path=\"url(#pf54e1d59cc)\" style=\"fill: #1f77b4\"/>\n   </g>\n   <g id=\"patch_67\">\n    <path d=\"M 401.177944 244.078125 \nL 405.789514 244.078125 \nL 405.789514 243.510271 \nL 401.177944 243.510271 \nz\n\" clip-path=\"url(#pf54e1d59cc)\" style=\"fill: #1f77b4\"/>\n   </g>\n   <g id=\"patch_68\">\n    <path d=\"M 405.789514 244.078125 \nL 410.401085 244.078125 \nL 410.401085 243.421826 \nL 405.789514 243.421826 \nz\n\" clip-path=\"url(#pf54e1d59cc)\" style=\"fill: #1f77b4\"/>\n   </g>\n   <g id=\"patch_69\">\n    <path d=\"M 410.401085 244.078125 \nL 415.012655 244.078125 \nL 415.012655 243.517748 \nL 410.401085 243.517748 \nz\n\" clip-path=\"url(#pf54e1d59cc)\" style=\"fill: #1f77b4\"/>\n   </g>\n   <g id=\"patch_70\">\n    <path d=\"M 415.012655 244.078125 \nL 419.624225 244.078125 \nL 419.624225 243.393511 \nL 415.012655 243.393511 \nz\n\" clip-path=\"url(#pf54e1d59cc)\" style=\"fill: #1f77b4\"/>\n   </g>\n   <g id=\"patch_71\">\n    <path d=\"M 419.624225 244.078125 \nL 424.235795 244.078125 \nL 424.235795 243.604535 \nL 419.624225 243.604535 \nz\n\" clip-path=\"url(#pf54e1d59cc)\" style=\"fill: #1f77b4\"/>\n   </g>\n   <g id=\"patch_72\">\n    <path d=\"M 424.235795 244.078125 \nL 428.847366 244.078125 \nL 428.847366 243.61846 \nL 424.235795 243.61846 \nz\n\" clip-path=\"url(#pf54e1d59cc)\" style=\"fill: #1f77b4\"/>\n   </g>\n   <g id=\"patch_73\">\n    <path d=\"M 428.847366 244.078125 \nL 433.458936 244.078125 \nL 433.458936 243.626534 \nL 428.847366 243.626534 \nz\n\" clip-path=\"url(#pf54e1d59cc)\" style=\"fill: #1f77b4\"/>\n   </g>\n   <g id=\"patch_74\">\n    <path d=\"M 433.458936 244.078125 \nL 438.070506 244.078125 \nL 438.070506 243.43353 \nL 433.458936 243.43353 \nz\n\" clip-path=\"url(#pf54e1d59cc)\" style=\"fill: #1f77b4\"/>\n   </g>\n   <g id=\"patch_75\">\n    <path d=\"M 438.070506 244.078125 \nL 442.682076 244.078125 \nL 442.682076 243.654502 \nL 438.070506 243.654502 \nz\n\" clip-path=\"url(#pf54e1d59cc)\" style=\"fill: #1f77b4\"/>\n   </g>\n   <g id=\"patch_76\">\n    <path d=\"M 442.682076 244.078125 \nL 447.293647 244.078125 \nL 447.293647 243.605347 \nL 442.682076 243.605347 \nz\n\" clip-path=\"url(#pf54e1d59cc)\" style=\"fill: #1f77b4\"/>\n   </g>\n   <g id=\"patch_77\">\n    <path d=\"M 447.293647 244.078125 \nL 451.905217 244.078125 \nL 451.905217 243.64739 \nL 447.293647 243.64739 \nz\n\" clip-path=\"url(#pf54e1d59cc)\" style=\"fill: #1f77b4\"/>\n   </g>\n   <g id=\"patch_78\">\n    <path d=\"M 451.905217 244.078125 \nL 456.516787 244.078125 \nL 456.516787 243.51667 \nL 451.905217 243.51667 \nz\n\" clip-path=\"url(#pf54e1d59cc)\" style=\"fill: #1f77b4\"/>\n   </g>\n   <g id=\"patch_79\">\n    <path d=\"M 456.516787 244.078125 \nL 461.128357 244.078125 \nL 461.128357 243.605248 \nL 456.516787 243.605248 \nz\n\" clip-path=\"url(#pf54e1d59cc)\" style=\"fill: #1f77b4\"/>\n   </g>\n   <g id=\"patch_80\">\n    <path d=\"M 461.128357 244.078125 \nL 465.739928 244.078125 \nL 465.739928 243.560984 \nL 461.128357 243.560984 \nz\n\" clip-path=\"url(#pf54e1d59cc)\" style=\"fill: #1f77b4\"/>\n   </g>\n   <g id=\"patch_81\">\n    <path d=\"M 465.739928 244.078125 \nL 470.351498 244.078125 \nL 470.351498 243.625224 \nL 465.739928 243.625224 \nz\n\" clip-path=\"url(#pf54e1d59cc)\" style=\"fill: #1f77b4\"/>\n   </g>\n   <g id=\"patch_82\">\n    <path d=\"M 470.351498 244.078125 \nL 474.963068 244.078125 \nL 474.963068 243.631193 \nL 470.351498 243.631193 \nz\n\" clip-path=\"url(#pf54e1d59cc)\" style=\"fill: #1f77b4\"/>\n   </g>\n   <g id=\"patch_83\">\n    <path d=\"M 474.963068 244.078125 \nL 479.574638 244.078125 \nL 479.574638 243.261399 \nL 474.963068 243.261399 \nz\n\" clip-path=\"url(#pf54e1d59cc)\" style=\"fill: #1f77b4\"/>\n   </g>\n   <g id=\"patch_84\">\n    <path d=\"M 479.574638 244.078125 \nL 484.186209 244.078125 \nL 484.186209 243.635205 \nL 479.574638 243.635205 \nz\n\" clip-path=\"url(#pf54e1d59cc)\" style=\"fill: #1f77b4\"/>\n   </g>\n   <g id=\"patch_85\">\n    <path d=\"M 484.186209 244.078125 \nL 488.797779 244.078125 \nL 488.797779 243.530065 \nL 484.186209 243.530065 \nz\n\" clip-path=\"url(#pf54e1d59cc)\" style=\"fill: #1f77b4\"/>\n   </g>\n   <g id=\"patch_86\">\n    <path d=\"M 488.797779 244.078125 \nL 493.409349 244.078125 \nL 493.409349 243.607237 \nL 488.797779 243.607237 \nz\n\" clip-path=\"url(#pf54e1d59cc)\" style=\"fill: #1f77b4\"/>\n   </g>\n   <g id=\"patch_87\">\n    <path d=\"M 493.409349 244.078125 \nL 498.020919 244.078125 \nL 498.020919 243.589167 \nL 493.409349 243.589167 \nz\n\" clip-path=\"url(#pf54e1d59cc)\" style=\"fill: #1f77b4\"/>\n   </g>\n   <g id=\"patch_88\">\n    <path d=\"M 498.020919 244.078125 \nL 502.63249 244.078125 \nL 502.63249 243.509508 \nL 498.020919 243.509508 \nz\n\" clip-path=\"url(#pf54e1d59cc)\" style=\"fill: #1f77b4\"/>\n   </g>\n   <g id=\"patch_89\">\n    <path d=\"M 502.63249 244.078125 \nL 507.24406 244.078125 \nL 507.24406 243.594803 \nL 502.63249 243.594803 \nz\n\" clip-path=\"url(#pf54e1d59cc)\" style=\"fill: #1f77b4\"/>\n   </g>\n   <g id=\"patch_90\">\n    <path d=\"M 507.24406 244.078125 \nL 511.85563 244.078125 \nL 511.85563 243.607005 \nL 507.24406 243.607005 \nz\n\" clip-path=\"url(#pf54e1d59cc)\" style=\"fill: #1f77b4\"/>\n   </g>\n   <g id=\"patch_91\">\n    <path d=\"M 511.85563 244.078125 \nL 516.4672 244.078125 \nL 516.4672 243.465676 \nL 511.85563 243.465676 \nz\n\" clip-path=\"url(#pf54e1d59cc)\" style=\"fill: #1f77b4\"/>\n   </g>\n   <g id=\"patch_92\">\n    <path d=\"M 516.4672 244.078125 \nL 521.078771 244.078125 \nL 521.078771 243.614051 \nL 516.4672 243.614051 \nz\n\" clip-path=\"url(#pf54e1d59cc)\" style=\"fill: #1f77b4\"/>\n   </g>\n   <g id=\"patch_93\">\n    <path d=\"M 521.078771 244.078125 \nL 525.690341 244.078125 \nL 525.690341 243.591222 \nL 521.078771 243.591222 \nz\n\" clip-path=\"url(#pf54e1d59cc)\" style=\"fill: #1f77b4\"/>\n   </g>\n   <g id=\"patch_94\">\n    <path d=\"M 525.690341 244.078125 \nL 530.301911 244.078125 \nL 530.301911 243.608961 \nL 525.690341 243.608961 \nz\n\" clip-path=\"url(#pf54e1d59cc)\" style=\"fill: #1f77b4\"/>\n   </g>\n   <g id=\"patch_95\">\n    <path d=\"M 530.301911 244.078125 \nL 534.913481 244.078125 \nL 534.913481 243.362178 \nL 530.301911 243.362178 \nz\n\" clip-path=\"url(#pf54e1d59cc)\" style=\"fill: #1f77b4\"/>\n   </g>\n   <g id=\"patch_96\">\n    <path d=\"M 534.913481 244.078125 \nL 539.525052 244.078125 \nL 539.525052 243.465178 \nL 534.913481 243.465178 \nz\n\" clip-path=\"url(#pf54e1d59cc)\" style=\"fill: #1f77b4\"/>\n   </g>\n   <g id=\"patch_97\">\n    <path d=\"M 539.525052 244.078125 \nL 544.136622 244.078125 \nL 544.136622 243.504469 \nL 539.525052 243.504469 \nz\n\" clip-path=\"url(#pf54e1d59cc)\" style=\"fill: #1f77b4\"/>\n   </g>\n   <g id=\"patch_98\">\n    <path d=\"M 544.136622 244.078125 \nL 548.748192 244.078125 \nL 548.748192 243.43053 \nL 544.136622 243.43053 \nz\n\" clip-path=\"url(#pf54e1d59cc)\" style=\"fill: #1f77b4\"/>\n   </g>\n   <g id=\"patch_99\">\n    <path d=\"M 548.748192 244.078125 \nL 553.359762 244.078125 \nL 553.359762 243.424644 \nL 548.748192 243.424644 \nz\n\" clip-path=\"url(#pf54e1d59cc)\" style=\"fill: #1f77b4\"/>\n   </g>\n   <g id=\"patch_100\">\n    <path d=\"M 553.359762 244.078125 \nL 557.971333 244.078125 \nL 557.971333 243.46541 \nL 553.359762 243.46541 \nz\n\" clip-path=\"url(#pf54e1d59cc)\" style=\"fill: #1f77b4\"/>\n   </g>\n   <g id=\"patch_101\">\n    <path d=\"M 557.971333 244.078125 \nL 562.582903 244.078125 \nL 562.582903 243.408315 \nL 557.971333 243.408315 \nz\n\" clip-path=\"url(#pf54e1d59cc)\" style=\"fill: #1f77b4\"/>\n   </g>\n   <g id=\"patch_102\">\n    <path d=\"M 562.582903 244.078125 \nL 567.194473 244.078125 \nL 567.194473 243.306425 \nL 562.582903 243.306425 \nz\n\" clip-path=\"url(#pf54e1d59cc)\" style=\"fill: #1f77b4\"/>\n   </g>\n   <g id=\"patch_103\">\n    <path d=\"M 567.194473 244.078125 \nL 571.806043 244.078125 \nL 571.806043 243.216637 \nL 567.194473 243.216637 \nz\n\" clip-path=\"url(#pf54e1d59cc)\" style=\"fill: #1f77b4\"/>\n   </g>\n   <g id=\"patch_104\">\n    <path d=\"M 571.806043 244.078125 \nL 576.417614 244.078125 \nL 576.417614 243.274296 \nL 571.806043 243.274296 \nz\n\" clip-path=\"url(#pf54e1d59cc)\" style=\"fill: #1f77b4\"/>\n   </g>\n   <g id=\"patch_105\">\n    <path d=\"M 576.417614 244.078125 \nL 581.029184 244.078125 \nL 581.029184 243.121014 \nL 576.417614 243.121014 \nz\n\" clip-path=\"url(#pf54e1d59cc)\" style=\"fill: #1f77b4\"/>\n   </g>\n   <g id=\"patch_106\">\n    <path d=\"M 581.029184 244.078125 \nL 585.640754 244.078125 \nL 585.640754 243.075905 \nL 581.029184 243.075905 \nz\n\" clip-path=\"url(#pf54e1d59cc)\" style=\"fill: #1f77b4\"/>\n   </g>\n   <g id=\"patch_107\">\n    <path d=\"M 585.640754 244.078125 \nL 590.252324 244.078125 \nL 590.252324 224.894115 \nL 585.640754 224.894115 \nz\n\" clip-path=\"url(#pf54e1d59cc)\" style=\"fill: #1f77b4\"/>\n   </g>\n   <g id=\"matplotlib.axis_3\">\n    <g id=\"xtick_7\">\n     <g id=\"line2d_14\">\n      <g>\n       <use xlink:href=\"#m1553a92346\" x=\"359.673812\" y=\"244.078125\" style=\"stroke: #000000; stroke-width: 0.8\"/>\n      </g>\n     </g>\n     <g id=\"text_18\">\n      <!-- 0.0 -->\n      <g transform=\"translate(351.722249 258.676562) scale(0.1 -0.1)\">\n       <use xlink:href=\"#DejaVuSans-30\"/>\n       <use xlink:href=\"#DejaVuSans-2e\" x=\"63.623047\"/>\n       <use xlink:href=\"#DejaVuSans-30\" x=\"95.410156\"/>\n      </g>\n     </g>\n    </g>\n    <g id=\"xtick_8\">\n     <g id=\"line2d_15\">\n      <g>\n       <use xlink:href=\"#m1553a92346\" x=\"405.789514\" y=\"244.078125\" style=\"stroke: #000000; stroke-width: 0.8\"/>\n      </g>\n     </g>\n     <g id=\"text_19\">\n      <!-- 0.2 -->\n      <g transform=\"translate(397.837952 258.676562) scale(0.1 -0.1)\">\n       <use xlink:href=\"#DejaVuSans-30\"/>\n       <use xlink:href=\"#DejaVuSans-2e\" x=\"63.623047\"/>\n       <use xlink:href=\"#DejaVuSans-32\" x=\"95.410156\"/>\n      </g>\n     </g>\n    </g>\n    <g id=\"xtick_9\">\n     <g id=\"line2d_16\">\n      <g>\n       <use xlink:href=\"#m1553a92346\" x=\"451.905217\" y=\"244.078125\" style=\"stroke: #000000; stroke-width: 0.8\"/>\n      </g>\n     </g>\n     <g id=\"text_20\">\n      <!-- 0.4 -->\n      <g transform=\"translate(443.953654 258.676562) scale(0.1 -0.1)\">\n       <use xlink:href=\"#DejaVuSans-30\"/>\n       <use xlink:href=\"#DejaVuSans-2e\" x=\"63.623047\"/>\n       <use xlink:href=\"#DejaVuSans-34\" x=\"95.410156\"/>\n      </g>\n     </g>\n    </g>\n    <g id=\"xtick_10\">\n     <g id=\"line2d_17\">\n      <g>\n       <use xlink:href=\"#m1553a92346\" x=\"498.020919\" y=\"244.078125\" style=\"stroke: #000000; stroke-width: 0.8\"/>\n      </g>\n     </g>\n     <g id=\"text_21\">\n      <!-- 0.6 -->\n      <g transform=\"translate(490.069357 258.676562) scale(0.1 -0.1)\">\n       <use xlink:href=\"#DejaVuSans-30\"/>\n       <use xlink:href=\"#DejaVuSans-2e\" x=\"63.623047\"/>\n       <use xlink:href=\"#DejaVuSans-36\" x=\"95.410156\"/>\n      </g>\n     </g>\n    </g>\n    <g id=\"xtick_11\">\n     <g id=\"line2d_18\">\n      <g>\n       <use xlink:href=\"#m1553a92346\" x=\"544.136622\" y=\"244.078125\" style=\"stroke: #000000; stroke-width: 0.8\"/>\n      </g>\n     </g>\n     <g id=\"text_22\">\n      <!-- 0.8 -->\n      <g transform=\"translate(536.185059 258.676562) scale(0.1 -0.1)\">\n       <use xlink:href=\"#DejaVuSans-30\"/>\n       <use xlink:href=\"#DejaVuSans-2e\" x=\"63.623047\"/>\n       <use xlink:href=\"#DejaVuSans-38\" x=\"95.410156\"/>\n      </g>\n     </g>\n    </g>\n    <g id=\"xtick_12\">\n     <g id=\"line2d_19\">\n      <g>\n       <use xlink:href=\"#m1553a92346\" x=\"590.252324\" y=\"244.078125\" style=\"stroke: #000000; stroke-width: 0.8\"/>\n      </g>\n     </g>\n     <g id=\"text_23\">\n      <!-- 1.0 -->\n      <g transform=\"translate(582.300762 258.676562) scale(0.1 -0.1)\">\n       <use xlink:href=\"#DejaVuSans-31\"/>\n       <use xlink:href=\"#DejaVuSans-2e\" x=\"63.623047\"/>\n       <use xlink:href=\"#DejaVuSans-30\" x=\"95.410156\"/>\n      </g>\n     </g>\n    </g>\n    <g id=\"text_24\">\n     <!-- Pixel intensity values -->\n     <g transform=\"translate(422.285724 272.354687) scale(0.1 -0.1)\">\n      <use xlink:href=\"#DejaVuSans-50\"/>\n      <use xlink:href=\"#DejaVuSans-69\" x=\"58.052734\"/>\n      <use xlink:href=\"#DejaVuSans-78\" x=\"85.835938\"/>\n      <use xlink:href=\"#DejaVuSans-65\" x=\"141.890625\"/>\n      <use xlink:href=\"#DejaVuSans-6c\" x=\"203.414062\"/>\n      <use xlink:href=\"#DejaVuSans-20\" x=\"231.197266\"/>\n      <use xlink:href=\"#DejaVuSans-69\" x=\"262.984375\"/>\n      <use xlink:href=\"#DejaVuSans-6e\" x=\"290.767578\"/>\n      <use xlink:href=\"#DejaVuSans-74\" x=\"354.146484\"/>\n      <use xlink:href=\"#DejaVuSans-65\" x=\"393.355469\"/>\n      <use xlink:href=\"#DejaVuSans-6e\" x=\"454.878906\"/>\n      <use xlink:href=\"#DejaVuSans-73\" x=\"518.257812\"/>\n      <use xlink:href=\"#DejaVuSans-69\" x=\"570.357422\"/>\n      <use xlink:href=\"#DejaVuSans-74\" x=\"598.140625\"/>\n      <use xlink:href=\"#DejaVuSans-79\" x=\"637.349609\"/>\n      <use xlink:href=\"#DejaVuSans-20\" x=\"696.529297\"/>\n      <use xlink:href=\"#DejaVuSans-76\" x=\"728.316406\"/>\n      <use xlink:href=\"#DejaVuSans-61\" x=\"787.496094\"/>\n      <use xlink:href=\"#DejaVuSans-6c\" x=\"848.775391\"/>\n      <use xlink:href=\"#DejaVuSans-75\" x=\"876.558594\"/>\n      <use xlink:href=\"#DejaVuSans-65\" x=\"939.9375\"/>\n      <use xlink:href=\"#DejaVuSans-73\" x=\"1001.460938\"/>\n     </g>\n    </g>\n   </g>\n   <g id=\"matplotlib.axis_4\">\n    <g id=\"ytick_8\">\n     <g id=\"line2d_20\">\n      <g>\n       <use xlink:href=\"#m0c8548cf0e\" x=\"348.144886\" y=\"244.078125\" style=\"stroke: #000000; stroke-width: 0.8\"/>\n      </g>\n     </g>\n     <g id=\"text_25\">\n      <!-- 0.0 -->\n      <g transform=\"translate(325.241761 247.877344) scale(0.1 -0.1)\">\n       <use xlink:href=\"#DejaVuSans-30\"/>\n       <use xlink:href=\"#DejaVuSans-2e\" x=\"63.623047\"/>\n       <use xlink:href=\"#DejaVuSans-30\" x=\"95.410156\"/>\n      </g>\n     </g>\n    </g>\n    <g id=\"ytick_9\">\n     <g id=\"line2d_21\">\n      <g>\n       <use xlink:href=\"#m0c8548cf0e\" x=\"348.144886\" y=\"210.921671\" style=\"stroke: #000000; stroke-width: 0.8\"/>\n      </g>\n     </g>\n     <g id=\"text_26\">\n      <!-- 0.2 -->\n      <g transform=\"translate(325.241761 214.720889) scale(0.1 -0.1)\">\n       <use xlink:href=\"#DejaVuSans-30\"/>\n       <use xlink:href=\"#DejaVuSans-2e\" x=\"63.623047\"/>\n       <use xlink:href=\"#DejaVuSans-32\" x=\"95.410156\"/>\n      </g>\n     </g>\n    </g>\n    <g id=\"ytick_10\">\n     <g id=\"line2d_22\">\n      <g>\n       <use xlink:href=\"#m0c8548cf0e\" x=\"348.144886\" y=\"177.765216\" style=\"stroke: #000000; stroke-width: 0.8\"/>\n      </g>\n     </g>\n     <g id=\"text_27\">\n      <!-- 0.4 -->\n      <g transform=\"translate(325.241761 181.564435) scale(0.1 -0.1)\">\n       <use xlink:href=\"#DejaVuSans-30\"/>\n       <use xlink:href=\"#DejaVuSans-2e\" x=\"63.623047\"/>\n       <use xlink:href=\"#DejaVuSans-34\" x=\"95.410156\"/>\n      </g>\n     </g>\n    </g>\n    <g id=\"ytick_11\">\n     <g id=\"line2d_23\">\n      <g>\n       <use xlink:href=\"#m0c8548cf0e\" x=\"348.144886\" y=\"144.608762\" style=\"stroke: #000000; stroke-width: 0.8\"/>\n      </g>\n     </g>\n     <g id=\"text_28\">\n      <!-- 0.6 -->\n      <g transform=\"translate(325.241761 148.40798) scale(0.1 -0.1)\">\n       <use xlink:href=\"#DejaVuSans-30\"/>\n       <use xlink:href=\"#DejaVuSans-2e\" x=\"63.623047\"/>\n       <use xlink:href=\"#DejaVuSans-36\" x=\"95.410156\"/>\n      </g>\n     </g>\n    </g>\n    <g id=\"ytick_12\">\n     <g id=\"line2d_24\">\n      <g>\n       <use xlink:href=\"#m0c8548cf0e\" x=\"348.144886\" y=\"111.452307\" style=\"stroke: #000000; stroke-width: 0.8\"/>\n      </g>\n     </g>\n     <g id=\"text_29\">\n      <!-- 0.8 -->\n      <g transform=\"translate(325.241761 115.251526) scale(0.1 -0.1)\">\n       <use xlink:href=\"#DejaVuSans-30\"/>\n       <use xlink:href=\"#DejaVuSans-2e\" x=\"63.623047\"/>\n       <use xlink:href=\"#DejaVuSans-38\" x=\"95.410156\"/>\n      </g>\n     </g>\n    </g>\n    <g id=\"ytick_13\">\n     <g id=\"line2d_25\">\n      <g>\n       <use xlink:href=\"#m0c8548cf0e\" x=\"348.144886\" y=\"78.295853\" style=\"stroke: #000000; stroke-width: 0.8\"/>\n      </g>\n     </g>\n     <g id=\"text_30\">\n      <!-- 1.0 -->\n      <g transform=\"translate(325.241761 82.095072) scale(0.1 -0.1)\">\n       <use xlink:href=\"#DejaVuSans-31\"/>\n       <use xlink:href=\"#DejaVuSans-2e\" x=\"63.623047\"/>\n       <use xlink:href=\"#DejaVuSans-30\" x=\"95.410156\"/>\n      </g>\n     </g>\n    </g>\n    <g id=\"ytick_14\">\n     <g id=\"line2d_26\">\n      <g>\n       <use xlink:href=\"#m0c8548cf0e\" x=\"348.144886\" y=\"45.139398\" style=\"stroke: #000000; stroke-width: 0.8\"/>\n      </g>\n     </g>\n     <g id=\"text_31\">\n      <!-- 1.2 -->\n      <g transform=\"translate(325.241761 48.938617) scale(0.1 -0.1)\">\n       <use xlink:href=\"#DejaVuSans-31\"/>\n       <use xlink:href=\"#DejaVuSans-2e\" x=\"63.623047\"/>\n       <use xlink:href=\"#DejaVuSans-32\" x=\"95.410156\"/>\n      </g>\n     </g>\n    </g>\n    <g id=\"text_32\">\n     <!-- Count -->\n     <g transform=\"translate(319.162074 148.046562) rotate(-90) scale(0.1 -0.1)\">\n      <use xlink:href=\"#DejaVuSans-43\"/>\n      <use xlink:href=\"#DejaVuSans-6f\" x=\"69.824219\"/>\n      <use xlink:href=\"#DejaVuSans-75\" x=\"131.005859\"/>\n      <use xlink:href=\"#DejaVuSans-6e\" x=\"194.384766\"/>\n      <use xlink:href=\"#DejaVuSans-74\" x=\"257.763672\"/>\n     </g>\n    </g>\n    <g id=\"text_33\">\n     <!-- 1e7 -->\n     <g transform=\"translate(348.144886 19.318125) scale(0.1 -0.1)\">\n      <use xlink:href=\"#DejaVuSans-31\"/>\n      <use xlink:href=\"#DejaVuSans-65\" x=\"63.623047\"/>\n      <use xlink:href=\"#DejaVuSans-37\" x=\"125.146484\"/>\n     </g>\n    </g>\n   </g>\n   <g id=\"patch_108\">\n    <path d=\"M 348.144886 244.078125 \nL 348.144886 22.318125 \n\" style=\"fill: none; stroke: #000000; stroke-width: 0.8; stroke-linejoin: miter; stroke-linecap: square\"/>\n   </g>\n   <g id=\"patch_109\">\n    <path d=\"M 601.78125 244.078125 \nL 601.78125 22.318125 \n\" style=\"fill: none; stroke: #000000; stroke-width: 0.8; stroke-linejoin: miter; stroke-linecap: square\"/>\n   </g>\n   <g id=\"patch_110\">\n    <path d=\"M 348.144886 244.078125 \nL 601.78125 244.078125 \n\" style=\"fill: none; stroke: #000000; stroke-width: 0.8; stroke-linejoin: miter; stroke-linecap: square\"/>\n   </g>\n   <g id=\"patch_111\">\n    <path d=\"M 348.144886 22.318125 \nL 601.78125 22.318125 \n\" style=\"fill: none; stroke: #000000; stroke-width: 0.8; stroke-linejoin: miter; stroke-linecap: square\"/>\n   </g>\n   <g id=\"text_34\">\n    <!-- Histogram of normalized data -->\n    <g transform=\"translate(385.478693 16.318125) scale(0.12 -0.12)\">\n     <defs>\n      <path id=\"DejaVuSans-7a\" d=\"M 353 3500 \nL 3084 3500 \nL 3084 2975 \nL 922 459 \nL 3084 459 \nL 3084 0 \nL 275 0 \nL 275 525 \nL 2438 3041 \nL 353 3041 \nL 353 3500 \nz\n\" transform=\"scale(0.015625)\"/>\n     </defs>\n     <use xlink:href=\"#DejaVuSans-48\"/>\n     <use xlink:href=\"#DejaVuSans-69\" x=\"75.195312\"/>\n     <use xlink:href=\"#DejaVuSans-73\" x=\"102.978516\"/>\n     <use xlink:href=\"#DejaVuSans-74\" x=\"155.078125\"/>\n     <use xlink:href=\"#DejaVuSans-6f\" x=\"194.287109\"/>\n     <use xlink:href=\"#DejaVuSans-67\" x=\"255.46875\"/>\n     <use xlink:href=\"#DejaVuSans-72\" x=\"318.945312\"/>\n     <use xlink:href=\"#DejaVuSans-61\" x=\"360.058594\"/>\n     <use xlink:href=\"#DejaVuSans-6d\" x=\"421.337891\"/>\n     <use xlink:href=\"#DejaVuSans-20\" x=\"518.75\"/>\n     <use xlink:href=\"#DejaVuSans-6f\" x=\"550.537109\"/>\n     <use xlink:href=\"#DejaVuSans-66\" x=\"611.71875\"/>\n     <use xlink:href=\"#DejaVuSans-20\" x=\"646.923828\"/>\n     <use xlink:href=\"#DejaVuSans-6e\" x=\"678.710938\"/>\n     <use xlink:href=\"#DejaVuSans-6f\" x=\"742.089844\"/>\n     <use xlink:href=\"#DejaVuSans-72\" x=\"803.271484\"/>\n     <use xlink:href=\"#DejaVuSans-6d\" x=\"842.634766\"/>\n     <use xlink:href=\"#DejaVuSans-61\" x=\"940.046875\"/>\n     <use xlink:href=\"#DejaVuSans-6c\" x=\"1001.326172\"/>\n     <use xlink:href=\"#DejaVuSans-69\" x=\"1029.109375\"/>\n     <use xlink:href=\"#DejaVuSans-7a\" x=\"1056.892578\"/>\n     <use xlink:href=\"#DejaVuSans-65\" x=\"1109.382812\"/>\n     <use xlink:href=\"#DejaVuSans-64\" x=\"1170.90625\"/>\n     <use xlink:href=\"#DejaVuSans-20\" x=\"1234.382812\"/>\n     <use xlink:href=\"#DejaVuSans-64\" x=\"1266.169922\"/>\n     <use xlink:href=\"#DejaVuSans-61\" x=\"1329.646484\"/>\n     <use xlink:href=\"#DejaVuSans-74\" x=\"1390.925781\"/>\n     <use xlink:href=\"#DejaVuSans-61\" x=\"1430.134766\"/>\n    </g>\n   </g>\n  </g>\n </g>\n <defs>\n  <clipPath id=\"p57882c5d64\">\n   <rect x=\"43.78125\" y=\"22.318125\" width=\"253.636364\" height=\"221.76\"/>\n  </clipPath>\n  <clipPath id=\"pf54e1d59cc\">\n   <rect x=\"348.144886\" y=\"22.318125\" width=\"253.636364\" height=\"221.76\"/>\n  </clipPath>\n </defs>\n</svg>\n"
          },
          "metadata": {}
        }
      ]
    },
    {
      "cell_type": "markdown",
      "metadata": {
        "id": "OhLQ2YSvpiGj"
      },
      "source": [
        "# Create train/test groups using DataLoader"
      ]
    },
    {
      "cell_type": "code",
      "metadata": {
        "id": "Y_tZ1ymVp0Sf"
      },
      "source": [
        "# Step 1: convert to tensor\n",
        "dataT   = torch.tensor( dataNorm ).float()\n",
        "labelsT = torch.tensor( labels ).long() # long = int64\n",
        "\n",
        "# Step 2: use scikitlearn to split the data\n",
        "train_data,test_data, train_labels,test_labels = train_test_split(dataT, labelsT, test_size=.1)\n",
        "\n",
        "\n",
        "# Step 3: convert into PyTorch Datasets\n",
        "train_data = TensorDataset(train_data,train_labels)\n",
        "test_data  = TensorDataset(test_data,test_labels)\n",
        "\n",
        "# Step 4: translate into dataloader objects\n",
        "batchsize    = 32\n",
        "train_loader = DataLoader(train_data,batch_size=batchsize,shuffle=True,drop_last=True)\n",
        "test_loader  = DataLoader(test_data,batch_size=test_data.tensors[0].shape[0])"
      ],
      "execution_count": null,
      "outputs": []
    },
    {
      "cell_type": "code",
      "metadata": {
        "id": "xP3xdo2zp0YO",
        "colab": {
          "base_uri": "https://localhost:8080/"
        },
        "outputId": "6cbf1cbe-fb0d-440f-ab98-e44bbce7af20"
      },
      "source": [
        "# check all variables in workspace\n",
        "%whos"
      ],
      "execution_count": null,
      "outputs": [
        {
          "output_type": "stream",
          "name": "stdout",
          "text": [
            "Variable            Type             Data/Info\n",
            "----------------------------------------------\n",
            "DataLoader          type             <class 'torch.utils.data.dataloader.DataLoader'>\n",
            "F                   module           <module 'torch.nn.functio<...>/torch/nn/functional.py'>\n",
            "TensorDataset       type             <class 'torch.utils.data.dataset.TensorDataset'>\n",
            "ax                  ndarray          2: 2 elems, type `object`, 16 bytes\n",
            "batchsize           int              32\n",
            "data                ndarray          20000x784: 15680000 elems, type `float64`, 125440000 bytes (119.62890625 Mb)\n",
            "dataNorm            ndarray          20000x784: 15680000 elems, type `float64`, 125440000 bytes (119.62890625 Mb)\n",
            "dataT               Tensor           tensor([[0., 0., 0.,  ...<...>, 0.,  ..., 0., 0., 0.]])\n",
            "fig                 Figure           Figure(1000x400)\n",
            "labels              ndarray          20000: 20000 elems, type `float64`, 160000 bytes (156.25 kb)\n",
            "labelsT             Tensor           tensor([6, 5, 7,  ..., 2, 9, 5])\n",
            "matplotlib_inline   module           <module 'matplotlib_inlin<...>tlib_inline/__init__.py'>\n",
            "nn                  module           <module 'torch.nn' from '<...>es/torch/nn/__init__.py'>\n",
            "np                  module           <module 'numpy' from '/us<...>kages/numpy/__init__.py'>\n",
            "plt                 module           <module 'matplotlib.pyplo<...>es/matplotlib/pyplot.py'>\n",
            "test_data           TensorDataset    <torch.utils.data.dataset<...>object at 0x7fed980d13c0>\n",
            "test_labels         Tensor           tensor([3, 9, 1,  ..., 3, 7, 3])\n",
            "test_loader         DataLoader       <torch.utils.data.dataloa<...>object at 0x7fed95664c40>\n",
            "torch               module           <module 'torch' from '/us<...>kages/torch/__init__.py'>\n",
            "train_data          TensorDataset    <torch.utils.data.dataset<...>object at 0x7fed95664970>\n",
            "train_labels        Tensor           tensor([3, 2, 5,  ..., 7, 3, 2])\n",
            "train_loader        DataLoader       <torch.utils.data.dataloa<...>object at 0x7fed95664820>\n",
            "train_test_split    function         <function train_test_split at 0x7fed97dcd5a0>\n"
          ]
        }
      ]
    },
    {
      "cell_type": "markdown",
      "metadata": {
        "id": "OK8Opkhgp0bO"
      },
      "source": [
        "# Create the DL model"
      ]
    },
    {
      "cell_type": "code",
      "metadata": {
        "id": "JK3OO3tAtZkA"
      },
      "source": [
        "# create a class for the model\n",
        "def createTheMNISTNet(optimizerAlgo, learningrate):\n",
        "\n",
        "  class mnistNet(nn.Module):\n",
        "    def __init__(self):\n",
        "      super().__init__()\n",
        "\n",
        "      ### input layer\n",
        "      self.input = nn.Linear(784,64)\n",
        "\n",
        "      ### hidden layer\n",
        "      self.fc1 = nn.Linear(64,32)\n",
        "      self.fc2 = nn.Linear(32,32)\n",
        "\n",
        "      ### output layer\n",
        "      self.output = nn.Linear(32,10)\n",
        "\n",
        "    # forward pass\n",
        "    def forward(self,x):\n",
        "      x = F.relu( self.input(x) )\n",
        "      x = F.relu( self.fc1(x) )\n",
        "      x = F.relu( self.fc2(x) )\n",
        "      return torch.log_softmax( self.output(x),axis=1 )\n",
        "      # NEW HERE: log-softmax the output, because I'm using NLLLoss instead of CrossEntropyLoss\n",
        "\n",
        "  # create the model instance\n",
        "  net = mnistNet()\n",
        "\n",
        "  # loss function\n",
        "  lossfun = nn.NLLLoss()\n",
        "\n",
        "  # optimizer\n",
        "  optifun = getattr(torch.optim, optimizerAlgo)\n",
        "  optimizer = optifun(net.parameters(),lr=learningrate)\n",
        "\n",
        "  return net,lossfun,optimizer"
      ],
      "execution_count": null,
      "outputs": []
    },
    {
      "cell_type": "code",
      "metadata": {
        "id": "y6icEJcXp0el",
        "colab": {
          "base_uri": "https://localhost:8080/"
        },
        "outputId": "7306869f-9141-44aa-c280-aa322bcfbb62"
      },
      "source": [
        "# test the model with one batch\n",
        "net,lossfun,optimizer = createTheMNISTNet(\"Adam\", .01)\n",
        "\n",
        "X,y = next(iter(train_loader))\n",
        "yHat = net(X)\n",
        "\n",
        "# values are log-probability of each number (0-9)\n",
        "# print(torch.exp(yHat))\n",
        "\n",
        "# now let's compute the loss\n",
        "loss = lossfun(yHat,y)\n",
        "print(' ')\n",
        "print('Loss:')\n",
        "print(loss)"
      ],
      "execution_count": null,
      "outputs": [
        {
          "output_type": "stream",
          "name": "stdout",
          "text": [
            " \n",
            "Loss:\n",
            "tensor(2.3125, grad_fn=<NllLossBackward0>)\n"
          ]
        }
      ]
    },
    {
      "cell_type": "markdown",
      "metadata": {
        "id": "dvfGQIRGp0ht"
      },
      "source": [
        "# Create a function that trains the model"
      ]
    },
    {
      "cell_type": "code",
      "metadata": {
        "id": "IblJo1NCp0kl"
      },
      "source": [
        "# a function that trains the model\n",
        "\n",
        "def function2trainTheModel(optimizerType, learningrate):\n",
        "\n",
        "  # number of epochs\n",
        "  numepochs = 60\n",
        "\n",
        "  # create a new model\n",
        "  net,lossfun,optimizer = createTheMNISTNet(optimizerType, learningrate)\n",
        "\n",
        "  # initialize losses\n",
        "  losses    = torch.zeros(numepochs)\n",
        "  trainAcc  = []\n",
        "  testAcc   = []\n",
        "\n",
        "\n",
        "  # loop over epochs\n",
        "  for epochi in range(numepochs):\n",
        "\n",
        "    # loop over training data batches\n",
        "    batchAcc  = []\n",
        "    batchLoss = []\n",
        "    for X,y in train_loader:\n",
        "\n",
        "      # forward pass and loss\n",
        "      yHat = net(X)\n",
        "      loss = lossfun(yHat,y)\n",
        "\n",
        "      # backprop\n",
        "      optimizer.zero_grad()\n",
        "      loss.backward()\n",
        "      optimizer.step()\n",
        "\n",
        "      # loss from this batch\n",
        "      batchLoss.append(loss.item())\n",
        "\n",
        "      # compute accuracy\n",
        "      matches = torch.argmax(yHat,axis=1) == y     # booleans (false/true)\n",
        "      matchesNumeric = matches.float()             # convert to numbers (0/1)\n",
        "      accuracyPct = 100*torch.mean(matchesNumeric) # average and x100\n",
        "      batchAcc.append( accuracyPct )               # add to list of accuracies\n",
        "    # end of batch loop...\n",
        "\n",
        "    # now that we've trained through the batches, get their average training accuracy\n",
        "    trainAcc.append( np.mean(batchAcc) )\n",
        "\n",
        "    # and get average losses across the batches\n",
        "    losses[epochi] = np.mean(batchLoss)\n",
        "\n",
        "    # test accuracy\n",
        "    X,y = next(iter(test_loader)) # extract X,y from test dataloader\n",
        "    yHat = net(X)\n",
        "\n",
        "    # compare the following really long line of code to the training accuracy lines\n",
        "    testAcc.append( 100*torch.mean((torch.argmax(yHat,axis=1)==y).float()) )\n",
        "\n",
        "  # end epochs\n",
        "\n",
        "  # function output\n",
        "  return trainAcc,testAcc,losses,net\n"
      ],
      "execution_count": null,
      "outputs": []
    },
    {
      "cell_type": "markdown",
      "metadata": {
        "id": "XpGm9xdQ27Ob"
      },
      "source": [
        "# Experiment"
      ]
    },
    {
      "cell_type": "code",
      "metadata": {
        "id": "l9pCC1R2p0nu"
      },
      "source": [
        "# variables to loop over\n",
        "learningRates = np.logspace(np.log10(.0001),np.log10(.1),20)\n",
        "optimTypes = ['SGD','RMSprop','Adam']\n",
        "\n",
        "# initialize performance matrix\n",
        "finalPerformance = np.zeros((len(learningRates),len(optimTypes)))\n",
        "\n",
        "\n",
        "# now for the experiment!\n",
        "for idx_o,opto in enumerate(optimTypes):\n",
        "  for idx_l,lr in enumerate(learningRates):\n",
        "    trainAcc,testAcc,losses,net = function2trainTheModel(opto,lr)\n",
        "    finalPerformance[idx_l,idx_o] = np.mean(testAcc[-10:])"
      ],
      "execution_count": null,
      "outputs": []
    },
    {
      "cell_type": "code",
      "metadata": {
        "id": "gHzKOZjnp0qn"
      },
      "source": [
        "# plot the results!\n",
        "plt.plot(learningRates,finalPerformance,'o-',linewidth=2)\n",
        "plt.legend(optimTypes)\n",
        "plt.xscale('log')\n",
        "plt.xlabel('Learning rates')\n",
        "plt.ylabel('Test accuracy (ave. last 10 epochs)')\n",
        "plt.title('Comparison of optimizers by learning rate')\n",
        "plt.show()"
      ],
      "execution_count": null,
      "outputs": []
    }
  ]
}