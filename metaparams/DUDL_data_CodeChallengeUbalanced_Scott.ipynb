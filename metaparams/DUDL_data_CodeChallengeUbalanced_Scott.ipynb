{
  "nbformat": 4,
  "nbformat_minor": 0,
  "metadata": {
    "colab": {
      "name": "DUDL_metaparams_CodeChallengeRelus.ipynb",
      "provenance": [],
      "include_colab_link": true
    },
    "kernelspec": {
      "name": "python3",
      "display_name": "Python 3"
    },
    "language_info": {
      "name": "python"
    }
  },
  "cells": [
    {
      "cell_type": "markdown",
      "metadata": {
        "id": "view-in-github",
        "colab_type": "text"
      },
      "source": [
        "<a href=\"https://colab.research.google.com/github/scott-huberty/DeepUnderstandingOfDeepLearning/blob/codechallenges/metaparams/DUDL_data_CodeChallengeUbalanced_Scott.ipynb\" target=\"_parent\"><img src=\"https://colab.research.google.com/assets/colab-badge.svg\" alt=\"Open In Colab\"/></a>"
      ]
    },
    {
      "cell_type": "markdown",
      "metadata": {
        "id": "bhWV8oes-wKR"
      },
      "source": [
        "# COURSE: A deep understanding of deep learning\n",
        "## SECTION: Metaparameters (activation, batch, optimizers)\n",
        "### LECTURE: CodeChallenge: Compare relu variants\n",
        "#### TEACHER: Mike X Cohen, sincxpress.com\n",
        "##### COURSE URL: udemy.com/course/deeplearning_x/?couponCode=202401"
      ]
    },
    {
      "cell_type": "code",
      "metadata": {
        "id": "7U3TmybM4yMw"
      },
      "source": [
        "### import libraries\n",
        "\n",
        "# for DL modeling\n",
        "import torch\n",
        "import torch.nn as nn\n",
        "import torch.nn.functional as F\n",
        "from torch.utils.data import DataLoader\n",
        "from sklearn.model_selection import train_test_split\n",
        "\n",
        "# for number-crunching\n",
        "import numpy as np\n",
        "import scipy.stats as stats\n",
        "\n",
        "# for dataset management\n",
        "import pandas as pd\n",
        "\n",
        "# for data visualization\n",
        "import matplotlib.pyplot as plt\n",
        "import seaborn as sns"
      ],
      "execution_count": 1,
      "outputs": []
    },
    {
      "cell_type": "markdown",
      "metadata": {
        "id": "2anVFzBXGdwH"
      },
      "source": [
        "# Import and process the data"
      ]
    },
    {
      "cell_type": "code",
      "source": [],
      "metadata": {
        "id": "eFwHAFYeMnTK"
      },
      "execution_count": null,
      "outputs": []
    },
    {
      "cell_type": "code",
      "metadata": {
        "id": "0ohXIxzt4_U2",
        "outputId": "5d317cb7-2ee2-48e9-be0a-260f822769ff",
        "colab": {
          "base_uri": "https://localhost:8080/"
        }
      },
      "source": [
        "# import the data\n",
        "url = \"https://archive.ics.uci.edu/ml/machine-learning-databases/wine-quality/winequality-red.csv\"\n",
        "data = pd.read_csv(url,sep=';')\n",
        "data = data[data['total sulfur dioxide']<200] # drop a few outliers\n",
        "\n",
        "# z-score all columns except for quality\n",
        "cols2zscore = data.keys()\n",
        "cols2zscore = cols2zscore.drop('quality')\n",
        "data[cols2zscore] = data[cols2zscore].apply(stats.zscore)\n",
        "\n",
        "# create a new column for binarized (boolean) quality\n",
        "data['boolQuality'] = 0\n",
        "# data['boolQuality'][data['quality']<6] = 0 # implicit in the code! just here for clarity\n",
        "data['boolQuality'][data['quality']>5] = 1\n",
        "\n",
        "# note: use the following lines to avoid the warning message\n",
        "#tmp = (data['quality']>qualThreshold ).astype(int)\n",
        "#data['boolQuality'] = tmp"
      ],
      "execution_count": 2,
      "outputs": [
        {
          "output_type": "stream",
          "name": "stderr",
          "text": [
            "<ipython-input-2-21a8ac0977a0>:14: SettingWithCopyWarning: \n",
            "A value is trying to be set on a copy of a slice from a DataFrame\n",
            "\n",
            "See the caveats in the documentation: https://pandas.pydata.org/pandas-docs/stable/user_guide/indexing.html#returning-a-view-versus-a-copy\n",
            "  data['boolQuality'][data['quality']>5] = 1\n"
          ]
        }
      ]
    },
    {
      "cell_type": "code",
      "source": [
        "class WineData:\n",
        "  def __init__(self, outlier_threshold=200, quality_threshold=5):\n",
        "    self.url = \"https://archive.ics.uci.edu/ml/machine-learning-databases/wine-quality/winequality-red.csv\"\n",
        "    self.df = pd.read_csv(self.url, sep=';')\n",
        "    self._df = self.df.copy()\n",
        "    self.outlier_threshold = outlier_threshold\n",
        "    self.quality_threshold = quality_threshold\n",
        "    self.process_data()\n",
        "\n",
        "  def drop_outliers(self):\n",
        "    self._df = self._df[self._df['total sulfur dioxide'] < self.outlier_threshold]\n",
        "    return self._df\n",
        "\n",
        "  def zscore_data(self):\n",
        "    cols_to_drop = []\n",
        "    for col in self._df.columns:\n",
        "      if col in [\"quality\", \"boolQuality\"]:\n",
        "        cols_to_drop.append(col)\n",
        "    cols_to_drop = list(set(cols_to_drop))\n",
        "    predictors = self._df.drop(cols_to_drop, axis=1).columns\n",
        "    self._df[predictors] = self._df[predictors].apply(stats.zscore)\n",
        "    return self._df\n",
        "\n",
        "  def binarize_quality(self):\n",
        "    self._df['boolQuality'] = 0\n",
        "    self._df.loc[self._df[\"quality\"] > self.quality_threshold, \"boolQuality\"] = 1\n",
        "    return self._df\n",
        "\n",
        "  def binarize_quality_alt(self):\n",
        "    self._df['boolQuality'][self._df['quality'] > self.quality_threshold] = 1\n",
        "    return self._df\n",
        "\n",
        "  def process_data(self):\n",
        "    self.drop_outliers()\n",
        "    self.zscore_data()\n",
        "    self.binarize_quality()\n",
        "    self.data = self._df\n",
        "    return self.data\n",
        "\n",
        "  def _repr_html_(self):\n",
        "    return self.data.head().to_html()"
      ],
      "metadata": {
        "id": "mBlaOTIkWX8m"
      },
      "execution_count": 70,
      "outputs": []
    },
    {
      "cell_type": "code",
      "source": [
        "data_1 = WineData(quality_threshold=4.5).data\n",
        "data_2 = WineData(quality_threshold=5.5).data\n",
        "data_3 = WineData(quality_threshold=6.5).data"
      ],
      "metadata": {
        "id": "Ei0mIh74XbNW"
      },
      "execution_count": 72,
      "outputs": []
    },
    {
      "cell_type": "code",
      "source": [
        "data_1[\"boolQuality\"].value_counts(ascending=True)"
      ],
      "metadata": {
        "id": "ishxPxdRdU8a",
        "outputId": "a100a406-7e96-4ea3-87f4-0d9b690c5709",
        "colab": {
          "base_uri": "https://localhost:8080/",
          "height": 172
        }
      },
      "execution_count": 89,
      "outputs": [
        {
          "output_type": "execute_result",
          "data": {
            "text/plain": [
              "boolQuality\n",
              "0      63\n",
              "1    1534\n",
              "Name: count, dtype: int64"
            ],
            "text/html": [
              "<div>\n",
              "<style scoped>\n",
              "    .dataframe tbody tr th:only-of-type {\n",
              "        vertical-align: middle;\n",
              "    }\n",
              "\n",
              "    .dataframe tbody tr th {\n",
              "        vertical-align: top;\n",
              "    }\n",
              "\n",
              "    .dataframe thead th {\n",
              "        text-align: right;\n",
              "    }\n",
              "</style>\n",
              "<table border=\"1\" class=\"dataframe\">\n",
              "  <thead>\n",
              "    <tr style=\"text-align: right;\">\n",
              "      <th></th>\n",
              "      <th>count</th>\n",
              "    </tr>\n",
              "    <tr>\n",
              "      <th>boolQuality</th>\n",
              "      <th></th>\n",
              "    </tr>\n",
              "  </thead>\n",
              "  <tbody>\n",
              "    <tr>\n",
              "      <th>0</th>\n",
              "      <td>63</td>\n",
              "    </tr>\n",
              "    <tr>\n",
              "      <th>1</th>\n",
              "      <td>1534</td>\n",
              "    </tr>\n",
              "  </tbody>\n",
              "</table>\n",
              "</div><br><label><b>dtype:</b> int64</label>"
            ]
          },
          "metadata": {},
          "execution_count": 89
        }
      ]
    },
    {
      "cell_type": "code",
      "source": [
        "data_2[\"boolQuality\"].value_counts(ascending=True)"
      ],
      "metadata": {
        "id": "6Cnk1xWQdsle",
        "outputId": "c4e541d0-39d0-4953-ae33-802b507326ae",
        "colab": {
          "base_uri": "https://localhost:8080/",
          "height": 172
        }
      },
      "execution_count": 84,
      "outputs": [
        {
          "output_type": "execute_result",
          "data": {
            "text/plain": [
              "boolQuality\n",
              "0    744\n",
              "1    853\n",
              "Name: count, dtype: int64"
            ],
            "text/html": [
              "<div>\n",
              "<style scoped>\n",
              "    .dataframe tbody tr th:only-of-type {\n",
              "        vertical-align: middle;\n",
              "    }\n",
              "\n",
              "    .dataframe tbody tr th {\n",
              "        vertical-align: top;\n",
              "    }\n",
              "\n",
              "    .dataframe thead th {\n",
              "        text-align: right;\n",
              "    }\n",
              "</style>\n",
              "<table border=\"1\" class=\"dataframe\">\n",
              "  <thead>\n",
              "    <tr style=\"text-align: right;\">\n",
              "      <th></th>\n",
              "      <th>count</th>\n",
              "    </tr>\n",
              "    <tr>\n",
              "      <th>boolQuality</th>\n",
              "      <th></th>\n",
              "    </tr>\n",
              "  </thead>\n",
              "  <tbody>\n",
              "    <tr>\n",
              "      <th>0</th>\n",
              "      <td>744</td>\n",
              "    </tr>\n",
              "    <tr>\n",
              "      <th>1</th>\n",
              "      <td>853</td>\n",
              "    </tr>\n",
              "  </tbody>\n",
              "</table>\n",
              "</div><br><label><b>dtype:</b> int64</label>"
            ]
          },
          "metadata": {},
          "execution_count": 84
        }
      ]
    },
    {
      "cell_type": "code",
      "source": [
        "data_3[\"boolQuality\"].value_counts(ascending=False)"
      ],
      "metadata": {
        "id": "sc90kIlJdwFa",
        "outputId": "5a9bfeb8-89b4-4f8b-884e-37225986e255",
        "colab": {
          "base_uri": "https://localhost:8080/",
          "height": 172
        }
      },
      "execution_count": 86,
      "outputs": [
        {
          "output_type": "execute_result",
          "data": {
            "text/plain": [
              "boolQuality\n",
              "0    1382\n",
              "1     215\n",
              "Name: count, dtype: int64"
            ],
            "text/html": [
              "<div>\n",
              "<style scoped>\n",
              "    .dataframe tbody tr th:only-of-type {\n",
              "        vertical-align: middle;\n",
              "    }\n",
              "\n",
              "    .dataframe tbody tr th {\n",
              "        vertical-align: top;\n",
              "    }\n",
              "\n",
              "    .dataframe thead th {\n",
              "        text-align: right;\n",
              "    }\n",
              "</style>\n",
              "<table border=\"1\" class=\"dataframe\">\n",
              "  <thead>\n",
              "    <tr style=\"text-align: right;\">\n",
              "      <th></th>\n",
              "      <th>count</th>\n",
              "    </tr>\n",
              "    <tr>\n",
              "      <th>boolQuality</th>\n",
              "      <th></th>\n",
              "    </tr>\n",
              "  </thead>\n",
              "  <tbody>\n",
              "    <tr>\n",
              "      <th>0</th>\n",
              "      <td>1382</td>\n",
              "    </tr>\n",
              "    <tr>\n",
              "      <th>1</th>\n",
              "      <td>215</td>\n",
              "    </tr>\n",
              "  </tbody>\n",
              "</table>\n",
              "</div><br><label><b>dtype:</b> int64</label>"
            ]
          },
          "metadata": {},
          "execution_count": 86
        }
      ]
    },
    {
      "cell_type": "code",
      "source": [
        "def create_dataloaders(qualThreshold):\n",
        "  data = WineData(quality_threshold=qualThreshold).data\n",
        "\n",
        "  X = data.drop(['quality','boolQuality'], axis=1)\n",
        "  y = data[\"boolQuality\"].values\n",
        "\n",
        "  X_train, X_test, y_train, y_test = train_test_split(X, y, test_size=0.2, random_state=42)\n",
        "\n",
        "  X_train_tensor = torch.tensor(X_train.values, dtype=torch.float)\n",
        "  y_train_tensor = torch.tensor(y_train, dtype=torch.long)\n",
        "  X_test_tensor = torch.tensor(X_test.values, dtype=torch.float)\n",
        "  y_test_tensor = torch.tensor(y_test, dtype=torch.long)\n",
        "\n",
        "  train_dataset = torch.utils.data.TensorDataset(X_train_tensor, y_train_tensor)\n",
        "  test_dataset = torch.utils.data.TensorDataset(X_test_tensor, y_test_tensor)\n",
        "\n",
        "  batch_size = 32\n",
        "  train_loader = DataLoader(train_dataset, batch_size=batch_size, shuffle=True, drop_last=True)\n",
        "  test_loader = DataLoader(test_dataset, batch_size=batch_size) # test_dataset.tensors[0].shape[0]\n",
        "\n",
        "  return train_loader, test_loader"
      ],
      "metadata": {
        "id": "nnnimbOrcRx4"
      },
      "execution_count": 104,
      "outputs": []
    },
    {
      "cell_type": "markdown",
      "metadata": {
        "id": "vGQd7xmM5Gns"
      },
      "source": [
        "# Re-organize the data: train/test in DataLoaders"
      ]
    },
    {
      "cell_type": "code",
      "metadata": {
        "id": "2kZ6YPe8Gav5"
      },
      "source": [
        "# convert from pandas dataframe to tensor\n",
        "dataT  = torch.tensor( data[cols2zscore].values ).float()\n",
        "labels = torch.tensor( data['boolQuality'].values ).float()\n",
        "labels = labels[:,None] # transform to matrix"
      ],
      "execution_count": 3,
      "outputs": []
    },
    {
      "cell_type": "code",
      "metadata": {
        "id": "bbf064xxGa_x"
      },
      "source": [
        "# use scikitlearn to split the data\n",
        "train_data,test_data, train_labels,test_labels = train_test_split(dataT, labels, test_size=.1)\n",
        "\n",
        "# then convert them into PyTorch Datasets (note: already converted to tensors)\n",
        "train_data = torch.utils.data.TensorDataset(train_data,train_labels)\n",
        "test_data  = torch.utils.data.TensorDataset(test_data,test_labels)\n",
        "\n",
        "# finally, translate into dataloader objects\n",
        "batchsize    = 64\n",
        "train_loader = DataLoader(train_data,batch_size=batchsize,shuffle=True,drop_last=True)\n",
        "test_loader  = DataLoader(test_data,batch_size=test_data.tensors[0].shape[0])"
      ],
      "execution_count": 4,
      "outputs": []
    },
    {
      "cell_type": "markdown",
      "metadata": {
        "id": "I7g0mivk5GqP"
      },
      "source": [
        "# Now for the DL part"
      ]
    },
    {
      "cell_type": "code",
      "metadata": {
        "id": "N0vAnQi9DNRa"
      },
      "source": [
        "# create a class for the model\n",
        "\n",
        "class ANNwine(nn.Module):\n",
        "  def __init__(self, actfun):\n",
        "    super().__init__()\n",
        "\n",
        "    ### input layer\n",
        "    self.input = nn.Linear(11,16)\n",
        "\n",
        "    ### hidden layers\n",
        "    self.fc1 = nn.Linear(16,32)\n",
        "    self.fc2 = nn.Linear(32,32)\n",
        "\n",
        "    ### output layer\n",
        "    self.output = nn.Linear(32,1)\n",
        "\n",
        "    # activation funcion to pass through\n",
        "    self.actfun = actfun\n",
        "\n",
        "  # forward pass\n",
        "  def forward(self,x):\n",
        "    # get activation function type\n",
        "    # this code replaces torch.relu with torch.<self.actfun>\n",
        "    actfun = getattr(torch.nn,self.actfun)\n",
        "    x = actfun()( self.input(x) )\n",
        "    x = actfun()( self.fc1(x) )\n",
        "    x = actfun()( self.fc2(x) )\n",
        "    return self.output(x)"
      ],
      "execution_count": 93,
      "outputs": []
    },
    {
      "cell_type": "markdown",
      "metadata": {
        "id": "IuCixgNfDMZS"
      },
      "source": [
        "# Train the model"
      ]
    },
    {
      "cell_type": "code",
      "metadata": {
        "id": "0XRPe56rGp2k"
      },
      "source": [
        "# a function that trains the model\n",
        "\n",
        "# global parameter\n",
        "numepochs = 500\n",
        "\n",
        "def trainTheModel(qualThreshold):\n",
        "\n",
        "  train_loader, test_loader = create_dataloaders(qualThreshold=qualThreshold)\n",
        "\n",
        "  # loss function and optimizer\n",
        "  lossfun = nn.BCEWithLogitsLoss()\n",
        "  optimizer = torch.optim.Adam(winenet.parameters(), lr=.001)\n",
        "\n",
        "  # initialize losses\n",
        "  losses   = torch.zeros(numepochs)\n",
        "  trainAcc = []\n",
        "  testAcc  = []\n",
        "\n",
        "  # loop over epochs\n",
        "  for epochi in range(numepochs):\n",
        "\n",
        "    # switch on training mode\n",
        "    winenet.train()\n",
        "\n",
        "    # loop over training data batches\n",
        "    batchAcc  = []\n",
        "    batchLoss = []\n",
        "    for X,y in train_loader:\n",
        "\n",
        "      # forward pass and loss\n",
        "      yHat = winenet(X).squeeze()\n",
        "      y = y.float()\n",
        "      loss = lossfun(yHat,y)\n",
        "\n",
        "      # backprop\n",
        "      optimizer.zero_grad()\n",
        "      loss.backward()\n",
        "      optimizer.step()\n",
        "\n",
        "      # loss from this batch\n",
        "      batchLoss.append(loss.item())\n",
        "\n",
        "      # compute training accuracy for this batch\n",
        "      batchAcc.append( 100*torch.mean(((yHat>0) == y).float()).item() )\n",
        "    # end of batch loop...\n",
        "\n",
        "    # now that we've trained through the batches, get their average training accuracy\n",
        "    trainAcc.append( np.mean(batchAcc) )\n",
        "\n",
        "    # and get average losses across the batches\n",
        "    losses[epochi] = np.mean(batchLoss)\n",
        "\n",
        "    # test accuracy\n",
        "    winenet.eval()\n",
        "    X,y = next(iter(test_loader)) # extract X,y from test dataloader\n",
        "    with torch.no_grad(): # deactivates autograd\n",
        "      yHat = winenet(X)\n",
        "    testAcc.append( 100*torch.mean(((yHat>0) == y).float()).item() )\n",
        "\n",
        "  # function output\n",
        "  return trainAcc,testAcc,losses"
      ],
      "execution_count": 108,
      "outputs": []
    },
    {
      "cell_type": "code",
      "metadata": {
        "id": "oL7EqhYjGp51"
      },
      "source": [
        "thresholds = [4.5, 5.5, 6.5]\n",
        "\n",
        "trainByAct = np.zeros((numepochs, len(thresholds)))\n",
        "testByAct  = np.zeros((numepochs, len(thresholds)))\n",
        "\n",
        "for ai, this_threshold in enumerate(thresholds):\n",
        "  # create a model and train it\n",
        "  winenet = ANNwine(\"LeakyReLU\")\n",
        "  trainByAct[:, ai], testByAct[:, ai], losses = trainTheModel(this_threshold)\n"
      ],
      "execution_count": null,
      "outputs": []
    },
    {
      "cell_type": "code",
      "metadata": {
        "id": "_7mAB4utDMeh",
        "outputId": "8646bd16-2738-4706-f3cd-451842a76cd0",
        "colab": {
          "base_uri": "https://localhost:8080/",
          "height": 350
        }
      },
      "source": [
        "# plot some results\n",
        "fig,ax = plt.subplots(1,2,figsize=(20,7))\n",
        "\n",
        "ax[0].plot(trainByAct)\n",
        "ax[0].set_title('Train accuracy')\n",
        "ax[1].plot(testByAct)\n",
        "ax[1].set_title('Test accuracy')\n",
        "\n",
        "# common features\n",
        "for i in range(2):\n",
        "  ax[i].legend(activation_funs)\n",
        "  ax[i].set_xlabel('Epoch')\n",
        "  ax[i].set_ylabel('Accuracy (%)')\n",
        "  ax[i].set_ylim([40,100])\n",
        "  ax[i].grid()\n",
        "\n",
        "plt.show()"
      ],
      "execution_count": 8,
      "outputs": [
        {
          "output_type": "display_data",
          "data": {
            "text/plain": [
              "<Figure size 2000x700 with 2 Axes>"
            ],
            "image/png": "[encoded data removed]"
          },
          "metadata": {}
        }
      ]
    },
    {
      "cell_type": "code",
      "metadata": {
        "id": "bE95OecdrMH3"
      },
      "source": [],
      "execution_count": 8,
      "outputs": []
    },
    {
      "cell_type": "markdown",
      "metadata": {
        "id": "dGAvb_FQ3Oxk"
      },
      "source": [
        "# Additional explorations"
      ]
    },
    {
      "cell_type": "code",
      "metadata": {
        "id": "9W76IafB3PDL"
      },
      "source": [
        "# This was a pretty straightforward codeChallenge, so there isn't much to expand. Feel free to try exploring the\n",
        "# standard DL metaparameters, including learning rate, number of training epochs, and batch size.\n",
        "#\n",
        "# It's also interesting the include other activation functions into the comparison. The following site lists the functions.\n",
        "#   https://pytorch.org/docs/stable/nn.html#non-linear-activations-weighted-sum-nonlinearity\n"
      ],
      "execution_count": 9,
      "outputs": []
    }
  ]
}